{
  "cells": [
    {
      "cell_type": "markdown",
      "metadata": {
        "id": "view-in-github",
        "colab_type": "text"
      },
      "source": [
        "<a href=\"https://colab.research.google.com/github/theburak/PGP/blob/master/IDS_MaxVoting_Stacking_KDD99_v10.ipynb\" target=\"_parent\"><img src=\"https://colab.research.google.com/assets/colab-badge.svg\" alt=\"Open In Colab\"/></a>"
      ]
    },
    {
      "cell_type": "code",
      "execution_count": 1,
      "id": "dressed-murray",
      "metadata": {
        "id": "dressed-murray"
      },
      "outputs": [],
      "source": [
        "# Importing libraries\n",
        "\n",
        "# For numerical computation on nd-arrays\n",
        "import numpy as np\n",
        "\n",
        "# For data analysis and manipulations with dataset\n",
        "import pandas as pd\n",
        "pd.set_option(\"display.max_columns\", None)\n",
        "\n",
        "# Data visualization library\n",
        "import matplotlib.pyplot as plt\n",
        "\n",
        "# Data visualization library built upon matplotlib\n",
        "import seaborn as sns\n",
        "\n",
        "#Datetime library for timing\n",
        "from datetime import datetime\n",
        "\n",
        " \n",
        "# To ignore warnings related to versions mismatch or updates\n",
        "import warnings\n",
        "warnings.filterwarnings(\"ignore\", category=FutureWarning)\n",
        "warnings.filterwarnings(\"ignore\", category=DeprecationWarning)\n",
        "warnings.filterwarnings(\"ignore\", category=UserWarning)"
      ]
    },
    {
      "cell_type": "code",
      "execution_count": 2,
      "id": "young-faith",
      "metadata": {
        "id": "young-faith"
      },
      "outputs": [],
      "source": [
        "# Features - http://kdd.ics.uci.edu/databases/kddcup99/kddcup.names\n",
        "features = ['duration','protocol_type','service','flag','src_bytes','dst_bytes','land','wrong_fragment',\n",
        "            'urgent','hot','num_failed_logins','logged_in','num_compromised','root_shell','su_attempted',\n",
        "            'num_root','num_file_creations','num_shells','num_access_files','num_outbound_cmds','is_host_login',\n",
        "            'is_guest_login', 'count', 'srv_count', 'serror_rate', 'srv_serror_rate', 'rerror_rate',\n",
        "            'srv_rerror_rate', 'same_srv_rate', 'diff_srv_rate', 'srv_diff_host_rate', 'dst_host_count',\n",
        "            'dst_host_srv_count', 'dst_host_same_srv_rate', 'dst_host_diff_srv_rate','dst_host_same_src_port_rate',\n",
        "            'dst_host_srv_diff_host_rate', 'dst_host_serror_rate', 'dst_host_srv_serror_rate',\n",
        "            'dst_host_rerror_rate', 'dst_host_srv_rerror_rate', 'intrusion_type']"
      ]
    },
    {
      "cell_type": "code",
      "execution_count": 3,
      "id": "44525c7c",
      "metadata": {
        "id": "44525c7c"
      },
      "outputs": [],
      "source": [
        "url = 'http://kdd.ics.uci.edu/databases/kddcup99/kddcup.data_10_percent.gz'\n",
        "df = pd.read_csv(url, names = features, header = None)\n",
        "# Dataset is now stored in a Pandas Dataframe"
      ]
    },
    {
      "cell_type": "code",
      "execution_count": 4,
      "id": "legislative-vessel",
      "metadata": {
        "colab": {
          "base_uri": "https://localhost:8080/",
          "height": 270
        },
        "id": "legislative-vessel",
        "outputId": "cc065974-5646-482e-fce8-403a945979e8"
      },
      "outputs": [
        {
          "output_type": "execute_result",
          "data": {
            "text/plain": [
              "   duration protocol_type service flag  src_bytes  dst_bytes  land  \\\n",
              "0         0           tcp    http   SF        181       5450     0   \n",
              "1         0           tcp    http   SF        239        486     0   \n",
              "2         0           tcp    http   SF        235       1337     0   \n",
              "3         0           tcp    http   SF        219       1337     0   \n",
              "4         0           tcp    http   SF        217       2032     0   \n",
              "\n",
              "   wrong_fragment  urgent  hot  num_failed_logins  logged_in  num_compromised  \\\n",
              "0               0       0    0                  0          1                0   \n",
              "1               0       0    0                  0          1                0   \n",
              "2               0       0    0                  0          1                0   \n",
              "3               0       0    0                  0          1                0   \n",
              "4               0       0    0                  0          1                0   \n",
              "\n",
              "   root_shell  su_attempted  num_root  num_file_creations  num_shells  \\\n",
              "0           0             0         0                   0           0   \n",
              "1           0             0         0                   0           0   \n",
              "2           0             0         0                   0           0   \n",
              "3           0             0         0                   0           0   \n",
              "4           0             0         0                   0           0   \n",
              "\n",
              "   num_access_files  num_outbound_cmds  is_host_login  is_guest_login  count  \\\n",
              "0                 0                  0              0               0      8   \n",
              "1                 0                  0              0               0      8   \n",
              "2                 0                  0              0               0      8   \n",
              "3                 0                  0              0               0      6   \n",
              "4                 0                  0              0               0      6   \n",
              "\n",
              "   srv_count  serror_rate  srv_serror_rate  rerror_rate  srv_rerror_rate  \\\n",
              "0          8          0.0              0.0          0.0              0.0   \n",
              "1          8          0.0              0.0          0.0              0.0   \n",
              "2          8          0.0              0.0          0.0              0.0   \n",
              "3          6          0.0              0.0          0.0              0.0   \n",
              "4          6          0.0              0.0          0.0              0.0   \n",
              "\n",
              "   same_srv_rate  diff_srv_rate  srv_diff_host_rate  dst_host_count  \\\n",
              "0            1.0            0.0                 0.0               9   \n",
              "1            1.0            0.0                 0.0              19   \n",
              "2            1.0            0.0                 0.0              29   \n",
              "3            1.0            0.0                 0.0              39   \n",
              "4            1.0            0.0                 0.0              49   \n",
              "\n",
              "   dst_host_srv_count  dst_host_same_srv_rate  dst_host_diff_srv_rate  \\\n",
              "0                   9                     1.0                     0.0   \n",
              "1                  19                     1.0                     0.0   \n",
              "2                  29                     1.0                     0.0   \n",
              "3                  39                     1.0                     0.0   \n",
              "4                  49                     1.0                     0.0   \n",
              "\n",
              "   dst_host_same_src_port_rate  dst_host_srv_diff_host_rate  \\\n",
              "0                         0.11                          0.0   \n",
              "1                         0.05                          0.0   \n",
              "2                         0.03                          0.0   \n",
              "3                         0.03                          0.0   \n",
              "4                         0.02                          0.0   \n",
              "\n",
              "   dst_host_serror_rate  dst_host_srv_serror_rate  dst_host_rerror_rate  \\\n",
              "0                   0.0                       0.0                   0.0   \n",
              "1                   0.0                       0.0                   0.0   \n",
              "2                   0.0                       0.0                   0.0   \n",
              "3                   0.0                       0.0                   0.0   \n",
              "4                   0.0                       0.0                   0.0   \n",
              "\n",
              "   dst_host_srv_rerror_rate intrusion_type  \n",
              "0                       0.0        normal.  \n",
              "1                       0.0        normal.  \n",
              "2                       0.0        normal.  \n",
              "3                       0.0        normal.  \n",
              "4                       0.0        normal.  "
            ],
            "text/html": [
              "\n",
              "  <div id=\"df-270bcdf2-58c8-410c-a79e-6e98a66dfaa4\">\n",
              "    <div class=\"colab-df-container\">\n",
              "      <div>\n",
              "<style scoped>\n",
              "    .dataframe tbody tr th:only-of-type {\n",
              "        vertical-align: middle;\n",
              "    }\n",
              "\n",
              "    .dataframe tbody tr th {\n",
              "        vertical-align: top;\n",
              "    }\n",
              "\n",
              "    .dataframe thead th {\n",
              "        text-align: right;\n",
              "    }\n",
              "</style>\n",
              "<table border=\"1\" class=\"dataframe\">\n",
              "  <thead>\n",
              "    <tr style=\"text-align: right;\">\n",
              "      <th></th>\n",
              "      <th>duration</th>\n",
              "      <th>protocol_type</th>\n",
              "      <th>service</th>\n",
              "      <th>flag</th>\n",
              "      <th>src_bytes</th>\n",
              "      <th>dst_bytes</th>\n",
              "      <th>land</th>\n",
              "      <th>wrong_fragment</th>\n",
              "      <th>urgent</th>\n",
              "      <th>hot</th>\n",
              "      <th>num_failed_logins</th>\n",
              "      <th>logged_in</th>\n",
              "      <th>num_compromised</th>\n",
              "      <th>root_shell</th>\n",
              "      <th>su_attempted</th>\n",
              "      <th>num_root</th>\n",
              "      <th>num_file_creations</th>\n",
              "      <th>num_shells</th>\n",
              "      <th>num_access_files</th>\n",
              "      <th>num_outbound_cmds</th>\n",
              "      <th>is_host_login</th>\n",
              "      <th>is_guest_login</th>\n",
              "      <th>count</th>\n",
              "      <th>srv_count</th>\n",
              "      <th>serror_rate</th>\n",
              "      <th>srv_serror_rate</th>\n",
              "      <th>rerror_rate</th>\n",
              "      <th>srv_rerror_rate</th>\n",
              "      <th>same_srv_rate</th>\n",
              "      <th>diff_srv_rate</th>\n",
              "      <th>srv_diff_host_rate</th>\n",
              "      <th>dst_host_count</th>\n",
              "      <th>dst_host_srv_count</th>\n",
              "      <th>dst_host_same_srv_rate</th>\n",
              "      <th>dst_host_diff_srv_rate</th>\n",
              "      <th>dst_host_same_src_port_rate</th>\n",
              "      <th>dst_host_srv_diff_host_rate</th>\n",
              "      <th>dst_host_serror_rate</th>\n",
              "      <th>dst_host_srv_serror_rate</th>\n",
              "      <th>dst_host_rerror_rate</th>\n",
              "      <th>dst_host_srv_rerror_rate</th>\n",
              "      <th>intrusion_type</th>\n",
              "    </tr>\n",
              "  </thead>\n",
              "  <tbody>\n",
              "    <tr>\n",
              "      <th>0</th>\n",
              "      <td>0</td>\n",
              "      <td>tcp</td>\n",
              "      <td>http</td>\n",
              "      <td>SF</td>\n",
              "      <td>181</td>\n",
              "      <td>5450</td>\n",
              "      <td>0</td>\n",
              "      <td>0</td>\n",
              "      <td>0</td>\n",
              "      <td>0</td>\n",
              "      <td>0</td>\n",
              "      <td>1</td>\n",
              "      <td>0</td>\n",
              "      <td>0</td>\n",
              "      <td>0</td>\n",
              "      <td>0</td>\n",
              "      <td>0</td>\n",
              "      <td>0</td>\n",
              "      <td>0</td>\n",
              "      <td>0</td>\n",
              "      <td>0</td>\n",
              "      <td>0</td>\n",
              "      <td>8</td>\n",
              "      <td>8</td>\n",
              "      <td>0.0</td>\n",
              "      <td>0.0</td>\n",
              "      <td>0.0</td>\n",
              "      <td>0.0</td>\n",
              "      <td>1.0</td>\n",
              "      <td>0.0</td>\n",
              "      <td>0.0</td>\n",
              "      <td>9</td>\n",
              "      <td>9</td>\n",
              "      <td>1.0</td>\n",
              "      <td>0.0</td>\n",
              "      <td>0.11</td>\n",
              "      <td>0.0</td>\n",
              "      <td>0.0</td>\n",
              "      <td>0.0</td>\n",
              "      <td>0.0</td>\n",
              "      <td>0.0</td>\n",
              "      <td>normal.</td>\n",
              "    </tr>\n",
              "    <tr>\n",
              "      <th>1</th>\n",
              "      <td>0</td>\n",
              "      <td>tcp</td>\n",
              "      <td>http</td>\n",
              "      <td>SF</td>\n",
              "      <td>239</td>\n",
              "      <td>486</td>\n",
              "      <td>0</td>\n",
              "      <td>0</td>\n",
              "      <td>0</td>\n",
              "      <td>0</td>\n",
              "      <td>0</td>\n",
              "      <td>1</td>\n",
              "      <td>0</td>\n",
              "      <td>0</td>\n",
              "      <td>0</td>\n",
              "      <td>0</td>\n",
              "      <td>0</td>\n",
              "      <td>0</td>\n",
              "      <td>0</td>\n",
              "      <td>0</td>\n",
              "      <td>0</td>\n",
              "      <td>0</td>\n",
              "      <td>8</td>\n",
              "      <td>8</td>\n",
              "      <td>0.0</td>\n",
              "      <td>0.0</td>\n",
              "      <td>0.0</td>\n",
              "      <td>0.0</td>\n",
              "      <td>1.0</td>\n",
              "      <td>0.0</td>\n",
              "      <td>0.0</td>\n",
              "      <td>19</td>\n",
              "      <td>19</td>\n",
              "      <td>1.0</td>\n",
              "      <td>0.0</td>\n",
              "      <td>0.05</td>\n",
              "      <td>0.0</td>\n",
              "      <td>0.0</td>\n",
              "      <td>0.0</td>\n",
              "      <td>0.0</td>\n",
              "      <td>0.0</td>\n",
              "      <td>normal.</td>\n",
              "    </tr>\n",
              "    <tr>\n",
              "      <th>2</th>\n",
              "      <td>0</td>\n",
              "      <td>tcp</td>\n",
              "      <td>http</td>\n",
              "      <td>SF</td>\n",
              "      <td>235</td>\n",
              "      <td>1337</td>\n",
              "      <td>0</td>\n",
              "      <td>0</td>\n",
              "      <td>0</td>\n",
              "      <td>0</td>\n",
              "      <td>0</td>\n",
              "      <td>1</td>\n",
              "      <td>0</td>\n",
              "      <td>0</td>\n",
              "      <td>0</td>\n",
              "      <td>0</td>\n",
              "      <td>0</td>\n",
              "      <td>0</td>\n",
              "      <td>0</td>\n",
              "      <td>0</td>\n",
              "      <td>0</td>\n",
              "      <td>0</td>\n",
              "      <td>8</td>\n",
              "      <td>8</td>\n",
              "      <td>0.0</td>\n",
              "      <td>0.0</td>\n",
              "      <td>0.0</td>\n",
              "      <td>0.0</td>\n",
              "      <td>1.0</td>\n",
              "      <td>0.0</td>\n",
              "      <td>0.0</td>\n",
              "      <td>29</td>\n",
              "      <td>29</td>\n",
              "      <td>1.0</td>\n",
              "      <td>0.0</td>\n",
              "      <td>0.03</td>\n",
              "      <td>0.0</td>\n",
              "      <td>0.0</td>\n",
              "      <td>0.0</td>\n",
              "      <td>0.0</td>\n",
              "      <td>0.0</td>\n",
              "      <td>normal.</td>\n",
              "    </tr>\n",
              "    <tr>\n",
              "      <th>3</th>\n",
              "      <td>0</td>\n",
              "      <td>tcp</td>\n",
              "      <td>http</td>\n",
              "      <td>SF</td>\n",
              "      <td>219</td>\n",
              "      <td>1337</td>\n",
              "      <td>0</td>\n",
              "      <td>0</td>\n",
              "      <td>0</td>\n",
              "      <td>0</td>\n",
              "      <td>0</td>\n",
              "      <td>1</td>\n",
              "      <td>0</td>\n",
              "      <td>0</td>\n",
              "      <td>0</td>\n",
              "      <td>0</td>\n",
              "      <td>0</td>\n",
              "      <td>0</td>\n",
              "      <td>0</td>\n",
              "      <td>0</td>\n",
              "      <td>0</td>\n",
              "      <td>0</td>\n",
              "      <td>6</td>\n",
              "      <td>6</td>\n",
              "      <td>0.0</td>\n",
              "      <td>0.0</td>\n",
              "      <td>0.0</td>\n",
              "      <td>0.0</td>\n",
              "      <td>1.0</td>\n",
              "      <td>0.0</td>\n",
              "      <td>0.0</td>\n",
              "      <td>39</td>\n",
              "      <td>39</td>\n",
              "      <td>1.0</td>\n",
              "      <td>0.0</td>\n",
              "      <td>0.03</td>\n",
              "      <td>0.0</td>\n",
              "      <td>0.0</td>\n",
              "      <td>0.0</td>\n",
              "      <td>0.0</td>\n",
              "      <td>0.0</td>\n",
              "      <td>normal.</td>\n",
              "    </tr>\n",
              "    <tr>\n",
              "      <th>4</th>\n",
              "      <td>0</td>\n",
              "      <td>tcp</td>\n",
              "      <td>http</td>\n",
              "      <td>SF</td>\n",
              "      <td>217</td>\n",
              "      <td>2032</td>\n",
              "      <td>0</td>\n",
              "      <td>0</td>\n",
              "      <td>0</td>\n",
              "      <td>0</td>\n",
              "      <td>0</td>\n",
              "      <td>1</td>\n",
              "      <td>0</td>\n",
              "      <td>0</td>\n",
              "      <td>0</td>\n",
              "      <td>0</td>\n",
              "      <td>0</td>\n",
              "      <td>0</td>\n",
              "      <td>0</td>\n",
              "      <td>0</td>\n",
              "      <td>0</td>\n",
              "      <td>0</td>\n",
              "      <td>6</td>\n",
              "      <td>6</td>\n",
              "      <td>0.0</td>\n",
              "      <td>0.0</td>\n",
              "      <td>0.0</td>\n",
              "      <td>0.0</td>\n",
              "      <td>1.0</td>\n",
              "      <td>0.0</td>\n",
              "      <td>0.0</td>\n",
              "      <td>49</td>\n",
              "      <td>49</td>\n",
              "      <td>1.0</td>\n",
              "      <td>0.0</td>\n",
              "      <td>0.02</td>\n",
              "      <td>0.0</td>\n",
              "      <td>0.0</td>\n",
              "      <td>0.0</td>\n",
              "      <td>0.0</td>\n",
              "      <td>0.0</td>\n",
              "      <td>normal.</td>\n",
              "    </tr>\n",
              "  </tbody>\n",
              "</table>\n",
              "</div>\n",
              "      <button class=\"colab-df-convert\" onclick=\"convertToInteractive('df-270bcdf2-58c8-410c-a79e-6e98a66dfaa4')\"\n",
              "              title=\"Convert this dataframe to an interactive table.\"\n",
              "              style=\"display:none;\">\n",
              "        \n",
              "  <svg xmlns=\"http://www.w3.org/2000/svg\" height=\"24px\"viewBox=\"0 0 24 24\"\n",
              "       width=\"24px\">\n",
              "    <path d=\"M0 0h24v24H0V0z\" fill=\"none\"/>\n",
              "    <path d=\"M18.56 5.44l.94 2.06.94-2.06 2.06-.94-2.06-.94-.94-2.06-.94 2.06-2.06.94zm-11 1L8.5 8.5l.94-2.06 2.06-.94-2.06-.94L8.5 2.5l-.94 2.06-2.06.94zm10 10l.94 2.06.94-2.06 2.06-.94-2.06-.94-.94-2.06-.94 2.06-2.06.94z\"/><path d=\"M17.41 7.96l-1.37-1.37c-.4-.4-.92-.59-1.43-.59-.52 0-1.04.2-1.43.59L10.3 9.45l-7.72 7.72c-.78.78-.78 2.05 0 2.83L4 21.41c.39.39.9.59 1.41.59.51 0 1.02-.2 1.41-.59l7.78-7.78 2.81-2.81c.8-.78.8-2.07 0-2.86zM5.41 20L4 18.59l7.72-7.72 1.47 1.35L5.41 20z\"/>\n",
              "  </svg>\n",
              "      </button>\n",
              "      \n",
              "  <style>\n",
              "    .colab-df-container {\n",
              "      display:flex;\n",
              "      flex-wrap:wrap;\n",
              "      gap: 12px;\n",
              "    }\n",
              "\n",
              "    .colab-df-convert {\n",
              "      background-color: #E8F0FE;\n",
              "      border: none;\n",
              "      border-radius: 50%;\n",
              "      cursor: pointer;\n",
              "      display: none;\n",
              "      fill: #1967D2;\n",
              "      height: 32px;\n",
              "      padding: 0 0 0 0;\n",
              "      width: 32px;\n",
              "    }\n",
              "\n",
              "    .colab-df-convert:hover {\n",
              "      background-color: #E2EBFA;\n",
              "      box-shadow: 0px 1px 2px rgba(60, 64, 67, 0.3), 0px 1px 3px 1px rgba(60, 64, 67, 0.15);\n",
              "      fill: #174EA6;\n",
              "    }\n",
              "\n",
              "    [theme=dark] .colab-df-convert {\n",
              "      background-color: #3B4455;\n",
              "      fill: #D2E3FC;\n",
              "    }\n",
              "\n",
              "    [theme=dark] .colab-df-convert:hover {\n",
              "      background-color: #434B5C;\n",
              "      box-shadow: 0px 1px 3px 1px rgba(0, 0, 0, 0.15);\n",
              "      filter: drop-shadow(0px 1px 2px rgba(0, 0, 0, 0.3));\n",
              "      fill: #FFFFFF;\n",
              "    }\n",
              "  </style>\n",
              "\n",
              "      <script>\n",
              "        const buttonEl =\n",
              "          document.querySelector('#df-270bcdf2-58c8-410c-a79e-6e98a66dfaa4 button.colab-df-convert');\n",
              "        buttonEl.style.display =\n",
              "          google.colab.kernel.accessAllowed ? 'block' : 'none';\n",
              "\n",
              "        async function convertToInteractive(key) {\n",
              "          const element = document.querySelector('#df-270bcdf2-58c8-410c-a79e-6e98a66dfaa4');\n",
              "          const dataTable =\n",
              "            await google.colab.kernel.invokeFunction('convertToInteractive',\n",
              "                                                     [key], {});\n",
              "          if (!dataTable) return;\n",
              "\n",
              "          const docLinkHtml = 'Like what you see? Visit the ' +\n",
              "            '<a target=\"_blank\" href=https://colab.research.google.com/notebooks/data_table.ipynb>data table notebook</a>'\n",
              "            + ' to learn more about interactive tables.';\n",
              "          element.innerHTML = '';\n",
              "          dataTable['output_type'] = 'display_data';\n",
              "          await google.colab.output.renderOutput(dataTable, element);\n",
              "          const docLink = document.createElement('div');\n",
              "          docLink.innerHTML = docLinkHtml;\n",
              "          element.appendChild(docLink);\n",
              "        }\n",
              "      </script>\n",
              "    </div>\n",
              "  </div>\n",
              "  "
            ]
          },
          "metadata": {},
          "execution_count": 4
        }
      ],
      "source": [
        "# Dataset -http://kdd.ics.uci.edu/databases/kddcup99/kddcup.data_10_percent.gz\n",
        "#df = pd.read_csv('kddcup_veryshort.data_10_percent_corrected', names = features, header = None)\n",
        "df.head()"
      ]
    },
    {
      "cell_type": "code",
      "execution_count": 5,
      "id": "flying-truth",
      "metadata": {
        "colab": {
          "base_uri": "https://localhost:8080/"
        },
        "id": "flying-truth",
        "outputId": "8b6e1170-0a54-41d2-d49c-945157a83f81"
      },
      "outputs": [
        {
          "output_type": "stream",
          "name": "stdout",
          "text": [
            "Number of data points:  494021\n",
            "Number of features:  42\n"
          ]
        }
      ],
      "source": [
        "print('Number of data points: ',df.shape[0])\n",
        "print('Number of features: ', df.shape[1])"
      ]
    },
    {
      "cell_type": "code",
      "execution_count": 6,
      "id": "rental-forestry",
      "metadata": {
        "colab": {
          "base_uri": "https://localhost:8080/"
        },
        "id": "rental-forestry",
        "outputId": "d079d078-a0b3-4d1d-db54-59a090e4a75a"
      },
      "outputs": [
        {
          "output_type": "stream",
          "name": "stdout",
          "text": [
            "There are 23 output labels and are: ['normal.' 'buffer_overflow.' 'loadmodule.' 'perl.' 'neptune.' 'smurf.'\n",
            " 'guess_passwd.' 'pod.' 'teardrop.' 'portsweep.' 'ipsweep.' 'land.'\n",
            " 'ftp_write.' 'back.' 'imap.' 'satan.' 'phf.' 'nmap.' 'multihop.'\n",
            " 'warezmaster.' 'warezclient.' 'spy.' 'rootkit.']\n"
          ]
        }
      ],
      "source": [
        "output_labels = df['intrusion_type'].unique()\n",
        "print(f\"There are {len(output_labels)} output labels and are: {output_labels}\")"
      ]
    },
    {
      "cell_type": "code",
      "execution_count": 7,
      "id": "endless-accommodation",
      "metadata": {
        "id": "endless-accommodation"
      },
      "outputs": [],
      "source": [
        "# Data cleaning"
      ]
    },
    {
      "cell_type": "code",
      "execution_count": 8,
      "id": "covered-toddler",
      "metadata": {
        "id": "covered-toddler"
      },
      "outputs": [],
      "source": [
        "# Checking for null values\n",
        "for index, value in df.isnull().sum().iteritems():\n",
        "    if value > 0:\n",
        "        print(f\"There are {value} missing values in column - {index}\")"
      ]
    },
    {
      "cell_type": "code",
      "execution_count": 9,
      "id": "nuclear-fishing",
      "metadata": {
        "colab": {
          "base_uri": "https://localhost:8080/"
        },
        "id": "nuclear-fishing",
        "outputId": "f8a6a95c-d17d-400d-a17c-7876504f9653"
      },
      "outputs": [
        {
          "output_type": "stream",
          "name": "stdout",
          "text": [
            "Duplicate rows - 348435\n"
          ]
        }
      ],
      "source": [
        "# There are no null values\n",
        "# Checking for duplicate rows\n",
        "print(f\"Duplicate rows - {df.duplicated().sum()}\")"
      ]
    },
    {
      "cell_type": "code",
      "execution_count": 10,
      "id": "compatible-section",
      "metadata": {
        "colab": {
          "base_uri": "https://localhost:8080/"
        },
        "id": "compatible-section",
        "outputId": "ffab77cd-d0b4-4296-9378-3b8b27af9e70"
      },
      "outputs": [
        {
          "output_type": "stream",
          "name": "stdout",
          "text": [
            "Duplicate rows - 0\n"
          ]
        }
      ],
      "source": [
        "# Removing duplicate rows\n",
        "df.drop_duplicates(keep='first', inplace=True)\n",
        "print(f\"Duplicate rows - {df.duplicated().sum()}\")"
      ]
    },
    {
      "cell_type": "code",
      "execution_count": 11,
      "id": "tribal-advocacy",
      "metadata": {
        "id": "tribal-advocacy"
      },
      "outputs": [],
      "source": [
        "# Saving the cleaned dataset\n",
        "df.to_pickle('clean_dataset.pkl')"
      ]
    },
    {
      "cell_type": "code",
      "execution_count": 12,
      "id": "civilian-timer",
      "metadata": {
        "colab": {
          "base_uri": "https://localhost:8080/"
        },
        "id": "civilian-timer",
        "outputId": "fbb0f384-4eee-419c-a316-48f52b064ea0"
      },
      "outputs": [
        {
          "output_type": "execute_result",
          "data": {
            "text/plain": [
              "(145586, 42)"
            ]
          },
          "metadata": {},
          "execution_count": 12
        }
      ],
      "source": [
        "df = pd.read_pickle('clean_dataset.pkl')\n",
        "df.shape"
      ]
    },
    {
      "cell_type": "code",
      "execution_count": 13,
      "id": "sexual-patio",
      "metadata": {
        "id": "sexual-patio"
      },
      "outputs": [],
      "source": [
        "# Exploratory Data Analysis"
      ]
    },
    {
      "cell_type": "code",
      "execution_count": 14,
      "id": "consecutive-basic",
      "metadata": {
        "colab": {
          "base_uri": "https://localhost:8080/"
        },
        "id": "consecutive-basic",
        "outputId": "cd94d4e5-0aa8-48f5-e255-f8292f974980"
      },
      "outputs": [
        {
          "output_type": "stream",
          "name": "stdout",
          "text": [
            "Number of data points in class:      normal.      is 87832 (60.33%)\n",
            "Number of data points in class:      neptune.     is 51820 (35.594%)\n",
            "Number of data points in class:       back.       is 968 (0.665%)\n",
            "Number of data points in class:     teardrop.     is 918 (0.631%)\n",
            "Number of data points in class:       satan.      is 906 (0.622%)\n",
            "Number of data points in class:    warezclient.   is 893 (0.613%)\n",
            "Number of data points in class:      ipsweep.     is 651 (0.447%)\n",
            "Number of data points in class:       smurf.      is 641 (0.44%)\n",
            "Number of data points in class:     portsweep.    is 416 (0.286%)\n",
            "Number of data points in class:        pod.       is 206 (0.141%)\n",
            "Number of data points in class:       nmap.       is 158 (0.109%)\n",
            "Number of data points in class:   guess_passwd.   is 53 (0.036%)\n",
            "Number of data points in class:  buffer_overflow. is 30 (0.021%)\n",
            "Number of data points in class:    warezmaster.   is 20 (0.014%)\n",
            "Number of data points in class:       land.       is 19 (0.013%)\n",
            "Number of data points in class:       imap.       is 12 (0.008%)\n",
            "Number of data points in class:      rootkit.     is 10 (0.007%)\n",
            "Number of data points in class:    loadmodule.    is 9 (0.006%)\n",
            "Number of data points in class:     ftp_write.    is 8 (0.005%)\n",
            "Number of data points in class:     multihop.     is 7 (0.005%)\n",
            "Number of data points in class:        phf.       is 4 (0.003%)\n",
            "Number of data points in class:       perl.       is 3 (0.002%)\n",
            "Number of data points in class:        spy.       is 2 (0.001%)\n"
          ]
        }
      ],
      "source": [
        "# Distribution of classes in target label\n",
        "dist = df['intrusion_type'].value_counts()\n",
        "for name, count in dist.iteritems():\n",
        "    print(f\"Number of data points in class: {name.center(17)} is\", end = ' ')\n",
        "    print(f\"{count} ({np.round(count / sum(dist) * 100, 3)}%)\")"
      ]
    },
    {
      "cell_type": "code",
      "execution_count": 15,
      "id": "demonstrated-dallas",
      "metadata": {
        "colab": {
          "base_uri": "https://localhost:8080/",
          "height": 918
        },
        "id": "demonstrated-dallas",
        "outputId": "bd3192f2-0422-4356-9ca7-aada5bb23627"
      },
      "outputs": [
        {
          "output_type": "display_data",
          "data": {
            "text/plain": [
              "<Figure size 1440x1080 with 1 Axes>"
            ],
            "image/png": "[encoded data removed]"
          },
          "metadata": {
            "needs_background": "light"
          }
        }
      ],
      "source": [
        "plt.figure(figsize=(20,15))\n",
        "plt.yscale(\"log\")\n",
        "dist.plot(kind='bar')\n",
        "plt.xlabel('Class')\n",
        "plt.ylabel('Data points')\n",
        "plt.title('Distribution of target class in training data')\n",
        "plt.show()"
      ]
    },
    {
      "cell_type": "code",
      "execution_count": 16,
      "id": "studied-little",
      "metadata": {
        "id": "studied-little"
      },
      "outputs": [],
      "source": [
        "# Most of the data points are from \"normal\" (good connections) category which is around 60.33 %.\n",
        "\n",
        "# In the categories that belong to bad connections, \"neptune.\" (35.594 %) and \"back.\" (0.665 %) have\n",
        "# the highest no. of data points.\n",
        "\n",
        "# Classes \"rootkit.\", \"loadmodule.\", \"ftp_write.\", \"multihop.\", \"phf.\", \"perl.\", \"spy.\" have the least\\\n",
        "# no. of data points with less than 10 data points per class.\n",
        "\n",
        "# The dataset is highly imbalanced, thus we will need to build a model which should be able to\n",
        "# classify data points from these low distribution classes accurately.\n",
        "\n",
        "# As the dataset is highly imbalanced, we will need to build a model which should be able to\n",
        "# classify the INTRUSION categories accurately."
      ]
    },
    {
      "cell_type": "code",
      "execution_count": 17,
      "id": "distinct-things",
      "metadata": {
        "colab": {
          "base_uri": "https://localhost:8080/",
          "height": 957
        },
        "id": "distinct-things",
        "outputId": "a58ea046-e604-4b39-916d-5fac7a9b6177"
      },
      "outputs": [
        {
          "output_type": "execute_result",
          "data": {
            "text/plain": [
              "(array([ 0,  1,  2,  3,  4,  5,  6,  7,  8,  9, 10, 11, 12, 13, 14, 15, 16,\n",
              "        17, 18, 19, 20, 21, 22]), <a list of 23 Text major ticklabel objects>)"
            ]
          },
          "metadata": {},
          "execution_count": 17
        },
        {
          "output_type": "display_data",
          "data": {
            "text/plain": [
              "<Figure size 1440x1080 with 1 Axes>"
            ],
            "image/png": "[encoded data removed]"
          },
          "metadata": {
            "needs_background": "light"
          }
        }
      ],
      "source": [
        "# Uni-variate analysis\n",
        "plt.figure(figsize=(20,15))\n",
        "sns.violinplot(x=\"intrusion_type\", y=\"src_bytes\", data=df)\n",
        "plt.xticks(rotation=90)"
      ]
    },
    {
      "cell_type": "code",
      "execution_count": 18,
      "id": "combined-formation",
      "metadata": {
        "colab": {
          "base_uri": "https://localhost:8080/",
          "height": 950
        },
        "id": "combined-formation",
        "outputId": "15702b97-8b3c-46bc-edf9-0e62d7885b2f"
      },
      "outputs": [
        {
          "output_type": "execute_result",
          "data": {
            "text/plain": [
              "(array([ 0,  1,  2,  3,  4,  5,  6,  7,  8,  9, 10, 11, 12, 13, 14, 15, 16,\n",
              "        17, 18, 19, 20, 21, 22]), <a list of 23 Text major ticklabel objects>)"
            ]
          },
          "metadata": {},
          "execution_count": 18
        },
        {
          "output_type": "display_data",
          "data": {
            "text/plain": [
              "<Figure size 1440x1080 with 1 Axes>"
            ],
            "image/png": "[encoded data removed]"
          },
          "metadata": {
            "needs_background": "light"
          }
        }
      ],
      "source": [
        "plt.figure(figsize=(20,15))\n",
        "sns.violinplot(x=\"intrusion_type\", y=\"dst_bytes\", data=df)\n",
        "plt.xticks(rotation=90)"
      ]
    },
    {
      "cell_type": "code",
      "execution_count": 19,
      "id": "favorite-merit",
      "metadata": {
        "id": "favorite-merit"
      },
      "outputs": [],
      "source": [
        "# Using src_bytes as a feature for analysis, the intrusion category \"portsweep\" is distinguishable\n",
        "# from rest of the categories\n",
        "\n",
        "# Using dest_bytes as a feature for analysis, the intrusion categories \"normal\", \"imap\", \"multihop\"\n",
        "# and \"warezmaster\" are distinguishable from rest of the categories.\n",
        "\n",
        "# As we have relatively high no of classes, the Univariate analysis using boxplots and violin plots\n",
        "# do not give us clear and satisfactory results\n",
        "\n",
        "# Thus, we can go with pairplots for BiVariate Analysis or we can go with PCA/TSNE\n",
        "# to reduce the no. of dimensions and perform Bi/Tri-Variate Analysis."
      ]
    },
    {
      "cell_type": "code",
      "execution_count": 20,
      "id": "satisfied-embassy",
      "metadata": {
        "colab": {
          "base_uri": "https://localhost:8080/",
          "height": 838
        },
        "id": "satisfied-embassy",
        "outputId": "1479ff04-6a37-4955-885a-d6ecd30e6c7f"
      },
      "outputs": [
        {
          "output_type": "display_data",
          "data": {
            "text/plain": [
              "<Figure size 1152x864 with 2 Axes>"
            ],
            "image/png": "[encoded data removed]"
          },
          "metadata": {
            "needs_background": "light"
          }
        }
      ],
      "source": [
        "# Analysing feature to feature relationship\n",
        "\n",
        "df_num = df.select_dtypes(include = ['float64', 'int64'])\n",
        "corr = df_num.corr()\n",
        "plt.figure(figsize=(16, 12))\n",
        "\n",
        "sns.heatmap(corr[(corr >= 0.7) | (corr <= -0.7)], \n",
        "            cmap='viridis', vmax=1.0, vmin=-1.0, linewidths=0.1,\n",
        "            annot=True, annot_kws={\"size\": 8});"
      ]
    },
    {
      "cell_type": "code",
      "execution_count": 21,
      "id": "sound-repair",
      "metadata": {
        "id": "sound-repair"
      },
      "outputs": [],
      "source": [
        "# Distribution of predictors/features\n",
        "# A `histogram`_ is a representation of the distribution of data\n",
        "# This function calls `matplotlib.pyplot.hist`, on each series in the DataFrame\n",
        "# resulting in one histogram per column\n",
        "##*df_num.hist(figsize=(16, 20), bins=50, xlabelsize=8, ylabelsize=8);"
      ]
    },
    {
      "cell_type": "code",
      "execution_count": 22,
      "id": "danish-ethiopia",
      "metadata": {
        "id": "danish-ethiopia"
      },
      "outputs": [],
      "source": [
        "# Pair plots for bi-variate analyis\n",
        "##*sns.pairplot(df, hue='intrusion_type', vars=['duration', 'src_bytes', 'dst_bytes', 'wrong_fragment'])"
      ]
    },
    {
      "cell_type": "code",
      "execution_count": 23,
      "id": "prescribed-income",
      "metadata": {
        "id": "prescribed-income"
      },
      "outputs": [],
      "source": [
        "##*sns.pairplot(df, hue='intrusion_type', vars=['root_shell','su_attempted','num_root','num_file_creations'])"
      ]
    },
    {
      "cell_type": "code",
      "execution_count": 24,
      "id": "destroyed-candidate",
      "metadata": {
        "id": "destroyed-candidate"
      },
      "outputs": [],
      "source": [
        "##*sns.pairplot(df, hue='intrusion_type', vars=['dst_host_same_src_port_rate','dst_host_srv_diff_host_rate',\n",
        "                                             #'dst_host_serror_rate','dst_host_srv_serror_rate'])"
      ]
    },
    {
      "cell_type": "code",
      "execution_count": 25,
      "id": "square-raising",
      "metadata": {
        "id": "square-raising"
      },
      "outputs": [],
      "source": [
        "# Almost no linear seperabilty in any feature\n",
        "# Trying PCA and t-sne"
      ]
    },
    {
      "cell_type": "code",
      "execution_count": 26,
      "id": "compressed-excitement",
      "metadata": {
        "id": "compressed-excitement"
      },
      "outputs": [],
      "source": [
        "# t-sne -> Unsupervised non-linear dimensionality reduction and data visualization algorithm\n",
        "from sklearn.manifold import TSNE\n",
        "tsne = TSNE(n_components = 2, perplexity = 50, n_iter = 1000)"
      ]
    },
    {
      "cell_type": "code",
      "execution_count": 27,
      "id": "fourth-multiple",
      "metadata": {
        "colab": {
          "base_uri": "https://localhost:8080/"
        },
        "id": "fourth-multiple",
        "outputId": "c4c54a06-cac2-4a45-d3e8-34bcf485ed1e"
      },
      "outputs": [
        {
          "output_type": "execute_result",
          "data": {
            "text/plain": [
              "(25934, 38)"
            ]
          },
          "metadata": {},
          "execution_count": 27
        }
      ],
      "source": [
        "# Preparing dataset for tsne\n",
        "frames = list()\n",
        "for label in df['intrusion_type'].unique():\n",
        "    temp = df[df['intrusion_type'] == label]\n",
        "    if label == 'normal.' or label == 'neptune.':     \n",
        "        temp = temp.iloc[:10000, ]\n",
        "    frames.append(temp)  \n",
        "temp_df = pd.concat(frames)\n",
        "\n",
        "# Since t-sne works on numeric attributes only\n",
        "df_num = temp_df.select_dtypes(include = ['float64', 'int64'])\n",
        "df_num.shape"
      ]
    },
    {
      "cell_type": "code",
      "execution_count": 28,
      "id": "material-geology",
      "metadata": {
        "colab": {
          "base_uri": "https://localhost:8080/"
        },
        "id": "material-geology",
        "outputId": "a7f4a059-a0e5-44aa-c719-f16f12a89cb6"
      },
      "outputs": [
        {
          "output_type": "stream",
          "name": "stdout",
          "text": [
            "(25934, 2)\n"
          ]
        }
      ],
      "source": [
        "tsne_df = tsne.fit_transform(df_num)\n",
        "print(tsne_df.shape)"
      ]
    },
    {
      "cell_type": "code",
      "execution_count": 29,
      "id": "fatal-douglas",
      "metadata": {
        "colab": {
          "base_uri": "https://localhost:8080/",
          "height": 441
        },
        "id": "fatal-douglas",
        "outputId": "b601b0a5-649e-4877-e727-eaa414be52c8"
      },
      "outputs": [
        {
          "output_type": "display_data",
          "data": {
            "text/plain": [
              "<Figure size 548.25x432 with 1 Axes>"
            ],
            "image/png": "[encoded data removed]"
          },
          "metadata": {
            "needs_background": "light"
          }
        }
      ],
      "source": [
        "tsne_df = np.vstack((tsne_df.T, temp_df['intrusion_type'].values)).T\n",
        "tsne_dataset = pd.DataFrame(data=tsne_df, columns=['f1', 'f2', 'Output'])\n",
        "sns.FacetGrid(tsne_dataset, hue='Output', size=6).map(plt.scatter, 'f1', 'f2').add_legend()\n",
        "plt.show()"
      ]
    },
    {
      "cell_type": "code",
      "execution_count": 30,
      "id": "physical-million",
      "metadata": {
        "id": "physical-million"
      },
      "outputs": [],
      "source": [
        "# PCA -> Unsupervised linear dimensionality reduction and data visualization algorithm\n",
        "from sklearn.decomposition import PCA\n",
        "pca = PCA(n_components = 2)"
      ]
    },
    {
      "cell_type": "code",
      "execution_count": 31,
      "id": "awful-disposal",
      "metadata": {
        "id": "awful-disposal"
      },
      "outputs": [],
      "source": [
        "# Standardizing the data for PCA\n",
        "from sklearn.preprocessing import StandardScaler\n",
        "X = StandardScaler().fit_transform(df.select_dtypes(include = ['float64', 'int64']))"
      ]
    },
    {
      "cell_type": "code",
      "execution_count": 32,
      "id": "north-singer",
      "metadata": {
        "colab": {
          "base_uri": "https://localhost:8080/"
        },
        "id": "north-singer",
        "outputId": "3187893b-7094-4060-b2d2-12a88e6cde84"
      },
      "outputs": [
        {
          "output_type": "execute_result",
          "data": {
            "text/plain": [
              "(145586, 2)"
            ]
          },
          "metadata": {},
          "execution_count": 32
        }
      ],
      "source": [
        "pca_df = pca.fit_transform(X)\n",
        "pca_df.shape"
      ]
    },
    {
      "cell_type": "code",
      "execution_count": 33,
      "id": "positive-isolation",
      "metadata": {
        "colab": {
          "base_uri": "https://localhost:8080/",
          "height": 441
        },
        "id": "positive-isolation",
        "outputId": "1c84b2fb-50e6-40ce-df97-16c0aac2d0f4"
      },
      "outputs": [
        {
          "output_type": "display_data",
          "data": {
            "text/plain": [
              "<Figure size 548.25x432 with 1 Axes>"
            ],
            "image/png": "[encoded data removed]"
          },
          "metadata": {
            "needs_background": "light"
          }
        }
      ],
      "source": [
        "pca_df = np.vstack((pca_df.T, df['intrusion_type'].values)).T\n",
        "pca_dataset = pd.DataFrame(data=pca_df, columns=['f1', 'f2', 'Output'])\n",
        "sns.FacetGrid(pca_dataset, hue='Output', size=6).map(plt.scatter, 'f1', 'f2').add_legend()\n",
        "plt.show()"
      ]
    },
    {
      "cell_type": "code",
      "execution_count": 34,
      "id": "changing-danger",
      "metadata": {
        "id": "changing-danger"
      },
      "outputs": [],
      "source": [
        "# Understanding various discrete predictors in dataset"
      ]
    },
    {
      "cell_type": "code",
      "execution_count": 35,
      "id": "prostate-platform",
      "metadata": {
        "colab": {
          "base_uri": "https://localhost:8080/",
          "height": 239
        },
        "id": "prostate-platform",
        "outputId": "03d037d8-726a-4972-cfdd-869c393a0300"
      },
      "outputs": [
        {
          "output_type": "execute_result",
          "data": {
            "text/plain": [
              "intrusion_type  back.  buffer_overflow.  ftp_write.  guess_passwd.  imap.  \\\n",
              "protocol_type                                                               \n",
              "icmp                0                 0           0              0      0   \n",
              "tcp               968                30           8             53     12   \n",
              "udp                 0                 0           0              0      0   \n",
              "\n",
              "intrusion_type  ipsweep.  land.  loadmodule.  multihop.  neptune.  nmap.  \\\n",
              "protocol_type                                                              \n",
              "icmp                 560      0            0          0         0    103   \n",
              "tcp                   91     19            9          7     51820     30   \n",
              "udp                    0      0            0          0         0     25   \n",
              "\n",
              "intrusion_type  normal.  perl.  phf.  pod.  portsweep.  rootkit.  satan.  \\\n",
              "protocol_type                                                              \n",
              "icmp                892      0     0   206           1         0       3   \n",
              "tcp               75789      3     4     0         415         7     733   \n",
              "udp               11151      0     0     0           0         3     170   \n",
              "\n",
              "intrusion_type  smurf.  spy.  teardrop.  warezclient.  warezmaster.  \n",
              "protocol_type                                                        \n",
              "icmp               641     0          0             0             0  \n",
              "tcp                  0     2          0           893            20  \n",
              "udp                  0     0        918             0             0  "
            ],
            "text/html": [
              "\n",
              "  <div id=\"df-75c1b40b-7bc5-483c-af9a-d4185b6f59d1\">\n",
              "    <div class=\"colab-df-container\">\n",
              "      <div>\n",
              "<style scoped>\n",
              "    .dataframe tbody tr th:only-of-type {\n",
              "        vertical-align: middle;\n",
              "    }\n",
              "\n",
              "    .dataframe tbody tr th {\n",
              "        vertical-align: top;\n",
              "    }\n",
              "\n",
              "    .dataframe thead th {\n",
              "        text-align: right;\n",
              "    }\n",
              "</style>\n",
              "<table border=\"1\" class=\"dataframe\">\n",
              "  <thead>\n",
              "    <tr style=\"text-align: right;\">\n",
              "      <th>intrusion_type</th>\n",
              "      <th>back.</th>\n",
              "      <th>buffer_overflow.</th>\n",
              "      <th>ftp_write.</th>\n",
              "      <th>guess_passwd.</th>\n",
              "      <th>imap.</th>\n",
              "      <th>ipsweep.</th>\n",
              "      <th>land.</th>\n",
              "      <th>loadmodule.</th>\n",
              "      <th>multihop.</th>\n",
              "      <th>neptune.</th>\n",
              "      <th>nmap.</th>\n",
              "      <th>normal.</th>\n",
              "      <th>perl.</th>\n",
              "      <th>phf.</th>\n",
              "      <th>pod.</th>\n",
              "      <th>portsweep.</th>\n",
              "      <th>rootkit.</th>\n",
              "      <th>satan.</th>\n",
              "      <th>smurf.</th>\n",
              "      <th>spy.</th>\n",
              "      <th>teardrop.</th>\n",
              "      <th>warezclient.</th>\n",
              "      <th>warezmaster.</th>\n",
              "    </tr>\n",
              "    <tr>\n",
              "      <th>protocol_type</th>\n",
              "      <th></th>\n",
              "      <th></th>\n",
              "      <th></th>\n",
              "      <th></th>\n",
              "      <th></th>\n",
              "      <th></th>\n",
              "      <th></th>\n",
              "      <th></th>\n",
              "      <th></th>\n",
              "      <th></th>\n",
              "      <th></th>\n",
              "      <th></th>\n",
              "      <th></th>\n",
              "      <th></th>\n",
              "      <th></th>\n",
              "      <th></th>\n",
              "      <th></th>\n",
              "      <th></th>\n",
              "      <th></th>\n",
              "      <th></th>\n",
              "      <th></th>\n",
              "      <th></th>\n",
              "      <th></th>\n",
              "    </tr>\n",
              "  </thead>\n",
              "  <tbody>\n",
              "    <tr>\n",
              "      <th>icmp</th>\n",
              "      <td>0</td>\n",
              "      <td>0</td>\n",
              "      <td>0</td>\n",
              "      <td>0</td>\n",
              "      <td>0</td>\n",
              "      <td>560</td>\n",
              "      <td>0</td>\n",
              "      <td>0</td>\n",
              "      <td>0</td>\n",
              "      <td>0</td>\n",
              "      <td>103</td>\n",
              "      <td>892</td>\n",
              "      <td>0</td>\n",
              "      <td>0</td>\n",
              "      <td>206</td>\n",
              "      <td>1</td>\n",
              "      <td>0</td>\n",
              "      <td>3</td>\n",
              "      <td>641</td>\n",
              "      <td>0</td>\n",
              "      <td>0</td>\n",
              "      <td>0</td>\n",
              "      <td>0</td>\n",
              "    </tr>\n",
              "    <tr>\n",
              "      <th>tcp</th>\n",
              "      <td>968</td>\n",
              "      <td>30</td>\n",
              "      <td>8</td>\n",
              "      <td>53</td>\n",
              "      <td>12</td>\n",
              "      <td>91</td>\n",
              "      <td>19</td>\n",
              "      <td>9</td>\n",
              "      <td>7</td>\n",
              "      <td>51820</td>\n",
              "      <td>30</td>\n",
              "      <td>75789</td>\n",
              "      <td>3</td>\n",
              "      <td>4</td>\n",
              "      <td>0</td>\n",
              "      <td>415</td>\n",
              "      <td>7</td>\n",
              "      <td>733</td>\n",
              "      <td>0</td>\n",
              "      <td>2</td>\n",
              "      <td>0</td>\n",
              "      <td>893</td>\n",
              "      <td>20</td>\n",
              "    </tr>\n",
              "    <tr>\n",
              "      <th>udp</th>\n",
              "      <td>0</td>\n",
              "      <td>0</td>\n",
              "      <td>0</td>\n",
              "      <td>0</td>\n",
              "      <td>0</td>\n",
              "      <td>0</td>\n",
              "      <td>0</td>\n",
              "      <td>0</td>\n",
              "      <td>0</td>\n",
              "      <td>0</td>\n",
              "      <td>25</td>\n",
              "      <td>11151</td>\n",
              "      <td>0</td>\n",
              "      <td>0</td>\n",
              "      <td>0</td>\n",
              "      <td>0</td>\n",
              "      <td>3</td>\n",
              "      <td>170</td>\n",
              "      <td>0</td>\n",
              "      <td>0</td>\n",
              "      <td>918</td>\n",
              "      <td>0</td>\n",
              "      <td>0</td>\n",
              "    </tr>\n",
              "  </tbody>\n",
              "</table>\n",
              "</div>\n",
              "      <button class=\"colab-df-convert\" onclick=\"convertToInteractive('df-75c1b40b-7bc5-483c-af9a-d4185b6f59d1')\"\n",
              "              title=\"Convert this dataframe to an interactive table.\"\n",
              "              style=\"display:none;\">\n",
              "        \n",
              "  <svg xmlns=\"http://www.w3.org/2000/svg\" height=\"24px\"viewBox=\"0 0 24 24\"\n",
              "       width=\"24px\">\n",
              "    <path d=\"M0 0h24v24H0V0z\" fill=\"none\"/>\n",
              "    <path d=\"M18.56 5.44l.94 2.06.94-2.06 2.06-.94-2.06-.94-.94-2.06-.94 2.06-2.06.94zm-11 1L8.5 8.5l.94-2.06 2.06-.94-2.06-.94L8.5 2.5l-.94 2.06-2.06.94zm10 10l.94 2.06.94-2.06 2.06-.94-2.06-.94-.94-2.06-.94 2.06-2.06.94z\"/><path d=\"M17.41 7.96l-1.37-1.37c-.4-.4-.92-.59-1.43-.59-.52 0-1.04.2-1.43.59L10.3 9.45l-7.72 7.72c-.78.78-.78 2.05 0 2.83L4 21.41c.39.39.9.59 1.41.59.51 0 1.02-.2 1.41-.59l7.78-7.78 2.81-2.81c.8-.78.8-2.07 0-2.86zM5.41 20L4 18.59l7.72-7.72 1.47 1.35L5.41 20z\"/>\n",
              "  </svg>\n",
              "      </button>\n",
              "      \n",
              "  <style>\n",
              "    .colab-df-container {\n",
              "      display:flex;\n",
              "      flex-wrap:wrap;\n",
              "      gap: 12px;\n",
              "    }\n",
              "\n",
              "    .colab-df-convert {\n",
              "      background-color: #E8F0FE;\n",
              "      border: none;\n",
              "      border-radius: 50%;\n",
              "      cursor: pointer;\n",
              "      display: none;\n",
              "      fill: #1967D2;\n",
              "      height: 32px;\n",
              "      padding: 0 0 0 0;\n",
              "      width: 32px;\n",
              "    }\n",
              "\n",
              "    .colab-df-convert:hover {\n",
              "      background-color: #E2EBFA;\n",
              "      box-shadow: 0px 1px 2px rgba(60, 64, 67, 0.3), 0px 1px 3px 1px rgba(60, 64, 67, 0.15);\n",
              "      fill: #174EA6;\n",
              "    }\n",
              "\n",
              "    [theme=dark] .colab-df-convert {\n",
              "      background-color: #3B4455;\n",
              "      fill: #D2E3FC;\n",
              "    }\n",
              "\n",
              "    [theme=dark] .colab-df-convert:hover {\n",
              "      background-color: #434B5C;\n",
              "      box-shadow: 0px 1px 3px 1px rgba(0, 0, 0, 0.15);\n",
              "      filter: drop-shadow(0px 1px 2px rgba(0, 0, 0, 0.3));\n",
              "      fill: #FFFFFF;\n",
              "    }\n",
              "  </style>\n",
              "\n",
              "      <script>\n",
              "        const buttonEl =\n",
              "          document.querySelector('#df-75c1b40b-7bc5-483c-af9a-d4185b6f59d1 button.colab-df-convert');\n",
              "        buttonEl.style.display =\n",
              "          google.colab.kernel.accessAllowed ? 'block' : 'none';\n",
              "\n",
              "        async function convertToInteractive(key) {\n",
              "          const element = document.querySelector('#df-75c1b40b-7bc5-483c-af9a-d4185b6f59d1');\n",
              "          const dataTable =\n",
              "            await google.colab.kernel.invokeFunction('convertToInteractive',\n",
              "                                                     [key], {});\n",
              "          if (!dataTable) return;\n",
              "\n",
              "          const docLinkHtml = 'Like what you see? Visit the ' +\n",
              "            '<a target=\"_blank\" href=https://colab.research.google.com/notebooks/data_table.ipynb>data table notebook</a>'\n",
              "            + ' to learn more about interactive tables.';\n",
              "          element.innerHTML = '';\n",
              "          dataTable['output_type'] = 'display_data';\n",
              "          await google.colab.output.renderOutput(dataTable, element);\n",
              "          const docLink = document.createElement('div');\n",
              "          docLink.innerHTML = docLinkHtml;\n",
              "          element.appendChild(docLink);\n",
              "        }\n",
              "      </script>\n",
              "    </div>\n",
              "  </div>\n",
              "  "
            ]
          },
          "metadata": {},
          "execution_count": 35
        }
      ],
      "source": [
        "pd.crosstab(df.protocol_type, df.intrusion_type)"
      ]
    },
    {
      "cell_type": "code",
      "execution_count": 36,
      "id": "needed-corporation",
      "metadata": {
        "colab": {
          "base_uri": "https://localhost:8080/",
          "height": 207
        },
        "id": "needed-corporation",
        "outputId": "4342e483-c6c2-4eff-f022-de92f90e1575"
      },
      "outputs": [
        {
          "output_type": "execute_result",
          "data": {
            "text/plain": [
              "intrusion_type  back.  buffer_overflow.  ftp_write.  guess_passwd.  imap.  \\\n",
              "root_shell                                                                  \n",
              "0                 968                12           8             53     12   \n",
              "1                   0                18           0              0      0   \n",
              "\n",
              "intrusion_type  ipsweep.  land.  loadmodule.  multihop.  neptune.  nmap.  \\\n",
              "root_shell                                                                 \n",
              "0                    651     19            6          5     51820    158   \n",
              "1                      0      0            3          2         0      0   \n",
              "\n",
              "intrusion_type  normal.  perl.  phf.  pod.  portsweep.  rootkit.  satan.  \\\n",
              "root_shell                                                                 \n",
              "0                 87809      0     0   206         416         8     906   \n",
              "1                    23      3     4     0           0         2       0   \n",
              "\n",
              "intrusion_type  smurf.  spy.  teardrop.  warezclient.  warezmaster.  \n",
              "root_shell                                                           \n",
              "0                  641     2        918           893            20  \n",
              "1                    0     0          0             0             0  "
            ],
            "text/html": [
              "\n",
              "  <div id=\"df-21ce8483-e0f8-41b3-aaa4-525cfc44d81c\">\n",
              "    <div class=\"colab-df-container\">\n",
              "      <div>\n",
              "<style scoped>\n",
              "    .dataframe tbody tr th:only-of-type {\n",
              "        vertical-align: middle;\n",
              "    }\n",
              "\n",
              "    .dataframe tbody tr th {\n",
              "        vertical-align: top;\n",
              "    }\n",
              "\n",
              "    .dataframe thead th {\n",
              "        text-align: right;\n",
              "    }\n",
              "</style>\n",
              "<table border=\"1\" class=\"dataframe\">\n",
              "  <thead>\n",
              "    <tr style=\"text-align: right;\">\n",
              "      <th>intrusion_type</th>\n",
              "      <th>back.</th>\n",
              "      <th>buffer_overflow.</th>\n",
              "      <th>ftp_write.</th>\n",
              "      <th>guess_passwd.</th>\n",
              "      <th>imap.</th>\n",
              "      <th>ipsweep.</th>\n",
              "      <th>land.</th>\n",
              "      <th>loadmodule.</th>\n",
              "      <th>multihop.</th>\n",
              "      <th>neptune.</th>\n",
              "      <th>nmap.</th>\n",
              "      <th>normal.</th>\n",
              "      <th>perl.</th>\n",
              "      <th>phf.</th>\n",
              "      <th>pod.</th>\n",
              "      <th>portsweep.</th>\n",
              "      <th>rootkit.</th>\n",
              "      <th>satan.</th>\n",
              "      <th>smurf.</th>\n",
              "      <th>spy.</th>\n",
              "      <th>teardrop.</th>\n",
              "      <th>warezclient.</th>\n",
              "      <th>warezmaster.</th>\n",
              "    </tr>\n",
              "    <tr>\n",
              "      <th>root_shell</th>\n",
              "      <th></th>\n",
              "      <th></th>\n",
              "      <th></th>\n",
              "      <th></th>\n",
              "      <th></th>\n",
              "      <th></th>\n",
              "      <th></th>\n",
              "      <th></th>\n",
              "      <th></th>\n",
              "      <th></th>\n",
              "      <th></th>\n",
              "      <th></th>\n",
              "      <th></th>\n",
              "      <th></th>\n",
              "      <th></th>\n",
              "      <th></th>\n",
              "      <th></th>\n",
              "      <th></th>\n",
              "      <th></th>\n",
              "      <th></th>\n",
              "      <th></th>\n",
              "      <th></th>\n",
              "      <th></th>\n",
              "    </tr>\n",
              "  </thead>\n",
              "  <tbody>\n",
              "    <tr>\n",
              "      <th>0</th>\n",
              "      <td>968</td>\n",
              "      <td>12</td>\n",
              "      <td>8</td>\n",
              "      <td>53</td>\n",
              "      <td>12</td>\n",
              "      <td>651</td>\n",
              "      <td>19</td>\n",
              "      <td>6</td>\n",
              "      <td>5</td>\n",
              "      <td>51820</td>\n",
              "      <td>158</td>\n",
              "      <td>87809</td>\n",
              "      <td>0</td>\n",
              "      <td>0</td>\n",
              "      <td>206</td>\n",
              "      <td>416</td>\n",
              "      <td>8</td>\n",
              "      <td>906</td>\n",
              "      <td>641</td>\n",
              "      <td>2</td>\n",
              "      <td>918</td>\n",
              "      <td>893</td>\n",
              "      <td>20</td>\n",
              "    </tr>\n",
              "    <tr>\n",
              "      <th>1</th>\n",
              "      <td>0</td>\n",
              "      <td>18</td>\n",
              "      <td>0</td>\n",
              "      <td>0</td>\n",
              "      <td>0</td>\n",
              "      <td>0</td>\n",
              "      <td>0</td>\n",
              "      <td>3</td>\n",
              "      <td>2</td>\n",
              "      <td>0</td>\n",
              "      <td>0</td>\n",
              "      <td>23</td>\n",
              "      <td>3</td>\n",
              "      <td>4</td>\n",
              "      <td>0</td>\n",
              "      <td>0</td>\n",
              "      <td>2</td>\n",
              "      <td>0</td>\n",
              "      <td>0</td>\n",
              "      <td>0</td>\n",
              "      <td>0</td>\n",
              "      <td>0</td>\n",
              "      <td>0</td>\n",
              "    </tr>\n",
              "  </tbody>\n",
              "</table>\n",
              "</div>\n",
              "      <button class=\"colab-df-convert\" onclick=\"convertToInteractive('df-21ce8483-e0f8-41b3-aaa4-525cfc44d81c')\"\n",
              "              title=\"Convert this dataframe to an interactive table.\"\n",
              "              style=\"display:none;\">\n",
              "        \n",
              "  <svg xmlns=\"http://www.w3.org/2000/svg\" height=\"24px\"viewBox=\"0 0 24 24\"\n",
              "       width=\"24px\">\n",
              "    <path d=\"M0 0h24v24H0V0z\" fill=\"none\"/>\n",
              "    <path d=\"M18.56 5.44l.94 2.06.94-2.06 2.06-.94-2.06-.94-.94-2.06-.94 2.06-2.06.94zm-11 1L8.5 8.5l.94-2.06 2.06-.94-2.06-.94L8.5 2.5l-.94 2.06-2.06.94zm10 10l.94 2.06.94-2.06 2.06-.94-2.06-.94-.94-2.06-.94 2.06-2.06.94z\"/><path d=\"M17.41 7.96l-1.37-1.37c-.4-.4-.92-.59-1.43-.59-.52 0-1.04.2-1.43.59L10.3 9.45l-7.72 7.72c-.78.78-.78 2.05 0 2.83L4 21.41c.39.39.9.59 1.41.59.51 0 1.02-.2 1.41-.59l7.78-7.78 2.81-2.81c.8-.78.8-2.07 0-2.86zM5.41 20L4 18.59l7.72-7.72 1.47 1.35L5.41 20z\"/>\n",
              "  </svg>\n",
              "      </button>\n",
              "      \n",
              "  <style>\n",
              "    .colab-df-container {\n",
              "      display:flex;\n",
              "      flex-wrap:wrap;\n",
              "      gap: 12px;\n",
              "    }\n",
              "\n",
              "    .colab-df-convert {\n",
              "      background-color: #E8F0FE;\n",
              "      border: none;\n",
              "      border-radius: 50%;\n",
              "      cursor: pointer;\n",
              "      display: none;\n",
              "      fill: #1967D2;\n",
              "      height: 32px;\n",
              "      padding: 0 0 0 0;\n",
              "      width: 32px;\n",
              "    }\n",
              "\n",
              "    .colab-df-convert:hover {\n",
              "      background-color: #E2EBFA;\n",
              "      box-shadow: 0px 1px 2px rgba(60, 64, 67, 0.3), 0px 1px 3px 1px rgba(60, 64, 67, 0.15);\n",
              "      fill: #174EA6;\n",
              "    }\n",
              "\n",
              "    [theme=dark] .colab-df-convert {\n",
              "      background-color: #3B4455;\n",
              "      fill: #D2E3FC;\n",
              "    }\n",
              "\n",
              "    [theme=dark] .colab-df-convert:hover {\n",
              "      background-color: #434B5C;\n",
              "      box-shadow: 0px 1px 3px 1px rgba(0, 0, 0, 0.15);\n",
              "      filter: drop-shadow(0px 1px 2px rgba(0, 0, 0, 0.3));\n",
              "      fill: #FFFFFF;\n",
              "    }\n",
              "  </style>\n",
              "\n",
              "      <script>\n",
              "        const buttonEl =\n",
              "          document.querySelector('#df-21ce8483-e0f8-41b3-aaa4-525cfc44d81c button.colab-df-convert');\n",
              "        buttonEl.style.display =\n",
              "          google.colab.kernel.accessAllowed ? 'block' : 'none';\n",
              "\n",
              "        async function convertToInteractive(key) {\n",
              "          const element = document.querySelector('#df-21ce8483-e0f8-41b3-aaa4-525cfc44d81c');\n",
              "          const dataTable =\n",
              "            await google.colab.kernel.invokeFunction('convertToInteractive',\n",
              "                                                     [key], {});\n",
              "          if (!dataTable) return;\n",
              "\n",
              "          const docLinkHtml = 'Like what you see? Visit the ' +\n",
              "            '<a target=\"_blank\" href=https://colab.research.google.com/notebooks/data_table.ipynb>data table notebook</a>'\n",
              "            + ' to learn more about interactive tables.';\n",
              "          element.innerHTML = '';\n",
              "          dataTable['output_type'] = 'display_data';\n",
              "          await google.colab.output.renderOutput(dataTable, element);\n",
              "          const docLink = document.createElement('div');\n",
              "          docLink.innerHTML = docLinkHtml;\n",
              "          element.appendChild(docLink);\n",
              "        }\n",
              "      </script>\n",
              "    </div>\n",
              "  </div>\n",
              "  "
            ]
          },
          "metadata": {},
          "execution_count": 36
        }
      ],
      "source": [
        "pd.crosstab(df.root_shell, df.intrusion_type)"
      ]
    },
    {
      "cell_type": "code",
      "execution_count": 37,
      "id": "offensive-marina",
      "metadata": {
        "colab": {
          "base_uri": "https://localhost:8080/",
          "height": 490
        },
        "id": "offensive-marina",
        "outputId": "a59e94b5-bf89-4902-da86-00f56950f412"
      },
      "outputs": [
        {
          "output_type": "execute_result",
          "data": {
            "text/plain": [
              "intrusion_type  back.  buffer_overflow.  ftp_write.  guess_passwd.  imap.  \\\n",
              "flag                                                                        \n",
              "OTH                 0                 0           0              0      0   \n",
              "REJ                 0                 0           0              0      0   \n",
              "RSTO                0                 1           0             45      0   \n",
              "RSTOS0              0                 0           0              0      0   \n",
              "RSTR               90                 0           0              4      0   \n",
              "S0                  0                 0           0              0      1   \n",
              "S1                  2                 0           0              0      1   \n",
              "S2                  5                 0           0              0      0   \n",
              "S3                  0                 0           0              2      0   \n",
              "SF                871                29           8              2      6   \n",
              "SH                  0                 0           0              0      4   \n",
              "\n",
              "intrusion_type  ipsweep.  land.  loadmodule.  multihop.  neptune.  nmap.  \\\n",
              "flag                                                                       \n",
              "OTH                    0      0            0          0         0      0   \n",
              "REJ                   80      0            0          0      9349      0   \n",
              "RSTO                   3      0            0          0       446      0   \n",
              "RSTOS0                 0      0            0          0         0      0   \n",
              "RSTR                   0      0            0          0         0      0   \n",
              "S0                     0     19            0          0     42025      0   \n",
              "S1                     0      0            0          0         0      0   \n",
              "S2                     0      0            0          0         0      0   \n",
              "S3                     0      0            0          0         0      0   \n",
              "SF                   568      0            9          7         0    128   \n",
              "SH                     0      0            0          0         0     30   \n",
              "\n",
              "intrusion_type  normal.  perl.  phf.  pod.  portsweep.  rootkit.  satan.  \\\n",
              "flag                                                                       \n",
              "OTH                   1      0     0     0           6         0       0   \n",
              "REJ                4655      0     0     0          74         0     554   \n",
              "RSTO                 66      0     0     0           7         0       0   \n",
              "RSTOS0                0      0     0     0          11         0       0   \n",
              "RSTR                 31      0     0     0         299         0       0   \n",
              "S0                   51      0     0     0          18         0     164   \n",
              "S1                   54      0     0     0           0         0       0   \n",
              "S2                   17      0     0     0           0         0       1   \n",
              "S3                    7      0     0     0           0         0       0   \n",
              "SF                82950      3     4   206           1        10     187   \n",
              "SH                    0      0     0     0           0         0       0   \n",
              "\n",
              "intrusion_type  smurf.  spy.  teardrop.  warezclient.  warezmaster.  \n",
              "flag                                                                 \n",
              "OTH                  0     0          0             0             0  \n",
              "REJ                  0     0          0             0             0  \n",
              "RSTO                 0     0          0             1             0  \n",
              "RSTOS0               0     0          0             0             0  \n",
              "RSTR                 0     0          0             1             0  \n",
              "S0                   0     0          0             0             0  \n",
              "S1                   0     0          0             0             0  \n",
              "S2                   0     0          0             1             0  \n",
              "S3                   0     0          0             1             0  \n",
              "SF                 641     2        918           889            20  \n",
              "SH                   0     0          0             0             0  "
            ],
            "text/html": [
              "\n",
              "  <div id=\"df-17492554-f67f-4f4d-9f88-1122c50a9d1a\">\n",
              "    <div class=\"colab-df-container\">\n",
              "      <div>\n",
              "<style scoped>\n",
              "    .dataframe tbody tr th:only-of-type {\n",
              "        vertical-align: middle;\n",
              "    }\n",
              "\n",
              "    .dataframe tbody tr th {\n",
              "        vertical-align: top;\n",
              "    }\n",
              "\n",
              "    .dataframe thead th {\n",
              "        text-align: right;\n",
              "    }\n",
              "</style>\n",
              "<table border=\"1\" class=\"dataframe\">\n",
              "  <thead>\n",
              "    <tr style=\"text-align: right;\">\n",
              "      <th>intrusion_type</th>\n",
              "      <th>back.</th>\n",
              "      <th>buffer_overflow.</th>\n",
              "      <th>ftp_write.</th>\n",
              "      <th>guess_passwd.</th>\n",
              "      <th>imap.</th>\n",
              "      <th>ipsweep.</th>\n",
              "      <th>land.</th>\n",
              "      <th>loadmodule.</th>\n",
              "      <th>multihop.</th>\n",
              "      <th>neptune.</th>\n",
              "      <th>nmap.</th>\n",
              "      <th>normal.</th>\n",
              "      <th>perl.</th>\n",
              "      <th>phf.</th>\n",
              "      <th>pod.</th>\n",
              "      <th>portsweep.</th>\n",
              "      <th>rootkit.</th>\n",
              "      <th>satan.</th>\n",
              "      <th>smurf.</th>\n",
              "      <th>spy.</th>\n",
              "      <th>teardrop.</th>\n",
              "      <th>warezclient.</th>\n",
              "      <th>warezmaster.</th>\n",
              "    </tr>\n",
              "    <tr>\n",
              "      <th>flag</th>\n",
              "      <th></th>\n",
              "      <th></th>\n",
              "      <th></th>\n",
              "      <th></th>\n",
              "      <th></th>\n",
              "      <th></th>\n",
              "      <th></th>\n",
              "      <th></th>\n",
              "      <th></th>\n",
              "      <th></th>\n",
              "      <th></th>\n",
              "      <th></th>\n",
              "      <th></th>\n",
              "      <th></th>\n",
              "      <th></th>\n",
              "      <th></th>\n",
              "      <th></th>\n",
              "      <th></th>\n",
              "      <th></th>\n",
              "      <th></th>\n",
              "      <th></th>\n",
              "      <th></th>\n",
              "      <th></th>\n",
              "    </tr>\n",
              "  </thead>\n",
              "  <tbody>\n",
              "    <tr>\n",
              "      <th>OTH</th>\n",
              "      <td>0</td>\n",
              "      <td>0</td>\n",
              "      <td>0</td>\n",
              "      <td>0</td>\n",
              "      <td>0</td>\n",
              "      <td>0</td>\n",
              "      <td>0</td>\n",
              "      <td>0</td>\n",
              "      <td>0</td>\n",
              "      <td>0</td>\n",
              "      <td>0</td>\n",
              "      <td>1</td>\n",
              "      <td>0</td>\n",
              "      <td>0</td>\n",
              "      <td>0</td>\n",
              "      <td>6</td>\n",
              "      <td>0</td>\n",
              "      <td>0</td>\n",
              "      <td>0</td>\n",
              "      <td>0</td>\n",
              "      <td>0</td>\n",
              "      <td>0</td>\n",
              "      <td>0</td>\n",
              "    </tr>\n",
              "    <tr>\n",
              "      <th>REJ</th>\n",
              "      <td>0</td>\n",
              "      <td>0</td>\n",
              "      <td>0</td>\n",
              "      <td>0</td>\n",
              "      <td>0</td>\n",
              "      <td>80</td>\n",
              "      <td>0</td>\n",
              "      <td>0</td>\n",
              "      <td>0</td>\n",
              "      <td>9349</td>\n",
              "      <td>0</td>\n",
              "      <td>4655</td>\n",
              "      <td>0</td>\n",
              "      <td>0</td>\n",
              "      <td>0</td>\n",
              "      <td>74</td>\n",
              "      <td>0</td>\n",
              "      <td>554</td>\n",
              "      <td>0</td>\n",
              "      <td>0</td>\n",
              "      <td>0</td>\n",
              "      <td>0</td>\n",
              "      <td>0</td>\n",
              "    </tr>\n",
              "    <tr>\n",
              "      <th>RSTO</th>\n",
              "      <td>0</td>\n",
              "      <td>1</td>\n",
              "      <td>0</td>\n",
              "      <td>45</td>\n",
              "      <td>0</td>\n",
              "      <td>3</td>\n",
              "      <td>0</td>\n",
              "      <td>0</td>\n",
              "      <td>0</td>\n",
              "      <td>446</td>\n",
              "      <td>0</td>\n",
              "      <td>66</td>\n",
              "      <td>0</td>\n",
              "      <td>0</td>\n",
              "      <td>0</td>\n",
              "      <td>7</td>\n",
              "      <td>0</td>\n",
              "      <td>0</td>\n",
              "      <td>0</td>\n",
              "      <td>0</td>\n",
              "      <td>0</td>\n",
              "      <td>1</td>\n",
              "      <td>0</td>\n",
              "    </tr>\n",
              "    <tr>\n",
              "      <th>RSTOS0</th>\n",
              "      <td>0</td>\n",
              "      <td>0</td>\n",
              "      <td>0</td>\n",
              "      <td>0</td>\n",
              "      <td>0</td>\n",
              "      <td>0</td>\n",
              "      <td>0</td>\n",
              "      <td>0</td>\n",
              "      <td>0</td>\n",
              "      <td>0</td>\n",
              "      <td>0</td>\n",
              "      <td>0</td>\n",
              "      <td>0</td>\n",
              "      <td>0</td>\n",
              "      <td>0</td>\n",
              "      <td>11</td>\n",
              "      <td>0</td>\n",
              "      <td>0</td>\n",
              "      <td>0</td>\n",
              "      <td>0</td>\n",
              "      <td>0</td>\n",
              "      <td>0</td>\n",
              "      <td>0</td>\n",
              "    </tr>\n",
              "    <tr>\n",
              "      <th>RSTR</th>\n",
              "      <td>90</td>\n",
              "      <td>0</td>\n",
              "      <td>0</td>\n",
              "      <td>4</td>\n",
              "      <td>0</td>\n",
              "      <td>0</td>\n",
              "      <td>0</td>\n",
              "      <td>0</td>\n",
              "      <td>0</td>\n",
              "      <td>0</td>\n",
              "      <td>0</td>\n",
              "      <td>31</td>\n",
              "      <td>0</td>\n",
              "      <td>0</td>\n",
              "      <td>0</td>\n",
              "      <td>299</td>\n",
              "      <td>0</td>\n",
              "      <td>0</td>\n",
              "      <td>0</td>\n",
              "      <td>0</td>\n",
              "      <td>0</td>\n",
              "      <td>1</td>\n",
              "      <td>0</td>\n",
              "    </tr>\n",
              "    <tr>\n",
              "      <th>S0</th>\n",
              "      <td>0</td>\n",
              "      <td>0</td>\n",
              "      <td>0</td>\n",
              "      <td>0</td>\n",
              "      <td>1</td>\n",
              "      <td>0</td>\n",
              "      <td>19</td>\n",
              "      <td>0</td>\n",
              "      <td>0</td>\n",
              "      <td>42025</td>\n",
              "      <td>0</td>\n",
              "      <td>51</td>\n",
              "      <td>0</td>\n",
              "      <td>0</td>\n",
              "      <td>0</td>\n",
              "      <td>18</td>\n",
              "      <td>0</td>\n",
              "      <td>164</td>\n",
              "      <td>0</td>\n",
              "      <td>0</td>\n",
              "      <td>0</td>\n",
              "      <td>0</td>\n",
              "      <td>0</td>\n",
              "    </tr>\n",
              "    <tr>\n",
              "      <th>S1</th>\n",
              "      <td>2</td>\n",
              "      <td>0</td>\n",
              "      <td>0</td>\n",
              "      <td>0</td>\n",
              "      <td>1</td>\n",
              "      <td>0</td>\n",
              "      <td>0</td>\n",
              "      <td>0</td>\n",
              "      <td>0</td>\n",
              "      <td>0</td>\n",
              "      <td>0</td>\n",
              "      <td>54</td>\n",
              "      <td>0</td>\n",
              "      <td>0</td>\n",
              "      <td>0</td>\n",
              "      <td>0</td>\n",
              "      <td>0</td>\n",
              "      <td>0</td>\n",
              "      <td>0</td>\n",
              "      <td>0</td>\n",
              "      <td>0</td>\n",
              "      <td>0</td>\n",
              "      <td>0</td>\n",
              "    </tr>\n",
              "    <tr>\n",
              "      <th>S2</th>\n",
              "      <td>5</td>\n",
              "      <td>0</td>\n",
              "      <td>0</td>\n",
              "      <td>0</td>\n",
              "      <td>0</td>\n",
              "      <td>0</td>\n",
              "      <td>0</td>\n",
              "      <td>0</td>\n",
              "      <td>0</td>\n",
              "      <td>0</td>\n",
              "      <td>0</td>\n",
              "      <td>17</td>\n",
              "      <td>0</td>\n",
              "      <td>0</td>\n",
              "      <td>0</td>\n",
              "      <td>0</td>\n",
              "      <td>0</td>\n",
              "      <td>1</td>\n",
              "      <td>0</td>\n",
              "      <td>0</td>\n",
              "      <td>0</td>\n",
              "      <td>1</td>\n",
              "      <td>0</td>\n",
              "    </tr>\n",
              "    <tr>\n",
              "      <th>S3</th>\n",
              "      <td>0</td>\n",
              "      <td>0</td>\n",
              "      <td>0</td>\n",
              "      <td>2</td>\n",
              "      <td>0</td>\n",
              "      <td>0</td>\n",
              "      <td>0</td>\n",
              "      <td>0</td>\n",
              "      <td>0</td>\n",
              "      <td>0</td>\n",
              "      <td>0</td>\n",
              "      <td>7</td>\n",
              "      <td>0</td>\n",
              "      <td>0</td>\n",
              "      <td>0</td>\n",
              "      <td>0</td>\n",
              "      <td>0</td>\n",
              "      <td>0</td>\n",
              "      <td>0</td>\n",
              "      <td>0</td>\n",
              "      <td>0</td>\n",
              "      <td>1</td>\n",
              "      <td>0</td>\n",
              "    </tr>\n",
              "    <tr>\n",
              "      <th>SF</th>\n",
              "      <td>871</td>\n",
              "      <td>29</td>\n",
              "      <td>8</td>\n",
              "      <td>2</td>\n",
              "      <td>6</td>\n",
              "      <td>568</td>\n",
              "      <td>0</td>\n",
              "      <td>9</td>\n",
              "      <td>7</td>\n",
              "      <td>0</td>\n",
              "      <td>128</td>\n",
              "      <td>82950</td>\n",
              "      <td>3</td>\n",
              "      <td>4</td>\n",
              "      <td>206</td>\n",
              "      <td>1</td>\n",
              "      <td>10</td>\n",
              "      <td>187</td>\n",
              "      <td>641</td>\n",
              "      <td>2</td>\n",
              "      <td>918</td>\n",
              "      <td>889</td>\n",
              "      <td>20</td>\n",
              "    </tr>\n",
              "    <tr>\n",
              "      <th>SH</th>\n",
              "      <td>0</td>\n",
              "      <td>0</td>\n",
              "      <td>0</td>\n",
              "      <td>0</td>\n",
              "      <td>4</td>\n",
              "      <td>0</td>\n",
              "      <td>0</td>\n",
              "      <td>0</td>\n",
              "      <td>0</td>\n",
              "      <td>0</td>\n",
              "      <td>30</td>\n",
              "      <td>0</td>\n",
              "      <td>0</td>\n",
              "      <td>0</td>\n",
              "      <td>0</td>\n",
              "      <td>0</td>\n",
              "      <td>0</td>\n",
              "      <td>0</td>\n",
              "      <td>0</td>\n",
              "      <td>0</td>\n",
              "      <td>0</td>\n",
              "      <td>0</td>\n",
              "      <td>0</td>\n",
              "    </tr>\n",
              "  </tbody>\n",
              "</table>\n",
              "</div>\n",
              "      <button class=\"colab-df-convert\" onclick=\"convertToInteractive('df-17492554-f67f-4f4d-9f88-1122c50a9d1a')\"\n",
              "              title=\"Convert this dataframe to an interactive table.\"\n",
              "              style=\"display:none;\">\n",
              "        \n",
              "  <svg xmlns=\"http://www.w3.org/2000/svg\" height=\"24px\"viewBox=\"0 0 24 24\"\n",
              "       width=\"24px\">\n",
              "    <path d=\"M0 0h24v24H0V0z\" fill=\"none\"/>\n",
              "    <path d=\"M18.56 5.44l.94 2.06.94-2.06 2.06-.94-2.06-.94-.94-2.06-.94 2.06-2.06.94zm-11 1L8.5 8.5l.94-2.06 2.06-.94-2.06-.94L8.5 2.5l-.94 2.06-2.06.94zm10 10l.94 2.06.94-2.06 2.06-.94-2.06-.94-.94-2.06-.94 2.06-2.06.94z\"/><path d=\"M17.41 7.96l-1.37-1.37c-.4-.4-.92-.59-1.43-.59-.52 0-1.04.2-1.43.59L10.3 9.45l-7.72 7.72c-.78.78-.78 2.05 0 2.83L4 21.41c.39.39.9.59 1.41.59.51 0 1.02-.2 1.41-.59l7.78-7.78 2.81-2.81c.8-.78.8-2.07 0-2.86zM5.41 20L4 18.59l7.72-7.72 1.47 1.35L5.41 20z\"/>\n",
              "  </svg>\n",
              "      </button>\n",
              "      \n",
              "  <style>\n",
              "    .colab-df-container {\n",
              "      display:flex;\n",
              "      flex-wrap:wrap;\n",
              "      gap: 12px;\n",
              "    }\n",
              "\n",
              "    .colab-df-convert {\n",
              "      background-color: #E8F0FE;\n",
              "      border: none;\n",
              "      border-radius: 50%;\n",
              "      cursor: pointer;\n",
              "      display: none;\n",
              "      fill: #1967D2;\n",
              "      height: 32px;\n",
              "      padding: 0 0 0 0;\n",
              "      width: 32px;\n",
              "    }\n",
              "\n",
              "    .colab-df-convert:hover {\n",
              "      background-color: #E2EBFA;\n",
              "      box-shadow: 0px 1px 2px rgba(60, 64, 67, 0.3), 0px 1px 3px 1px rgba(60, 64, 67, 0.15);\n",
              "      fill: #174EA6;\n",
              "    }\n",
              "\n",
              "    [theme=dark] .colab-df-convert {\n",
              "      background-color: #3B4455;\n",
              "      fill: #D2E3FC;\n",
              "    }\n",
              "\n",
              "    [theme=dark] .colab-df-convert:hover {\n",
              "      background-color: #434B5C;\n",
              "      box-shadow: 0px 1px 3px 1px rgba(0, 0, 0, 0.15);\n",
              "      filter: drop-shadow(0px 1px 2px rgba(0, 0, 0, 0.3));\n",
              "      fill: #FFFFFF;\n",
              "    }\n",
              "  </style>\n",
              "\n",
              "      <script>\n",
              "        const buttonEl =\n",
              "          document.querySelector('#df-17492554-f67f-4f4d-9f88-1122c50a9d1a button.colab-df-convert');\n",
              "        buttonEl.style.display =\n",
              "          google.colab.kernel.accessAllowed ? 'block' : 'none';\n",
              "\n",
              "        async function convertToInteractive(key) {\n",
              "          const element = document.querySelector('#df-17492554-f67f-4f4d-9f88-1122c50a9d1a');\n",
              "          const dataTable =\n",
              "            await google.colab.kernel.invokeFunction('convertToInteractive',\n",
              "                                                     [key], {});\n",
              "          if (!dataTable) return;\n",
              "\n",
              "          const docLinkHtml = 'Like what you see? Visit the ' +\n",
              "            '<a target=\"_blank\" href=https://colab.research.google.com/notebooks/data_table.ipynb>data table notebook</a>'\n",
              "            + ' to learn more about interactive tables.';\n",
              "          element.innerHTML = '';\n",
              "          dataTable['output_type'] = 'display_data';\n",
              "          await google.colab.output.renderOutput(dataTable, element);\n",
              "          const docLink = document.createElement('div');\n",
              "          docLink.innerHTML = docLinkHtml;\n",
              "          element.appendChild(docLink);\n",
              "        }\n",
              "      </script>\n",
              "    </div>\n",
              "  </div>\n",
              "  "
            ]
          },
          "metadata": {},
          "execution_count": 37
        }
      ],
      "source": [
        "pd.crosstab(df.flag, df.intrusion_type)"
      ]
    },
    {
      "cell_type": "code",
      "execution_count": 38,
      "id": "technological-yacht",
      "metadata": {
        "id": "technological-yacht"
      },
      "outputs": [],
      "source": [
        "# It is observed:-\n",
        "# Being the most used protocol, it is observed that TCP has highest number of good and bad connections\n",
        "# among the given data set\n",
        "\n",
        "# There are very less number of cases here root shell has been obtained. This is because of the reason\n",
        "# that root shell is generally used by system administrators only. For attackers, they need to get access\n",
        "# of the box as user before escalating their privileges to root.\n",
        "\n",
        "# It was further observed that whenever there was a case of root shell access, buffer overflow attack\n",
        "# was encountered. Reason being when escalating privileges from user to root, generally only 2 types\n",
        "# of attack are possible, mis-configuration in permissions or buffer overflows. Buffer overflows\n",
        "# are more common, as most Kernel exploits are buffer overflows.\n",
        "\n",
        "# In neptune attacks, the attacker sends a flood of SYN packets and the target sends back SYN-ACK packets\n",
        "# in reply. From this, the attacker comes to know that target is alive and sends packet with REJ and S0 flags.\n",
        "# Furthermore, there are a lot of packets with SF flags in normal secure connections."
      ]
    },
    {
      "cell_type": "markdown",
      "id": "local-phoenix",
      "metadata": {
        "id": "local-phoenix"
      },
      "source": [
        "# Model-1 Building"
      ]
    },
    {
      "cell_type": "code",
      "execution_count": 39,
      "id": "organizational-destination",
      "metadata": {
        "id": "organizational-destination"
      },
      "outputs": [],
      "source": [
        "# In this project, we will solve the Intrusion detection problem as a Binary Classification problem,\n",
        "# where we will consider points belonging to class \"Normal\" as one class(Positive Class) and points\n",
        "# belonging to the remaining 22 classes as the second class(Negative Class).\n",
        "\n",
        "# The reason we are converting this problem to a binary classification problem is because organisations\n",
        "# are more concerned about Normal and Bad connections getting classified correctly rather than each of\n",
        "# the bad categories getting misclassified so that no Bad connections are allowed to gain access to the\n",
        "# internal network of the organisation by getting misclassified as a Normal connection which may otherwise\n",
        "# result in a security threat.\n",
        "\n",
        "# Target is our final columns to be predicted\n",
        "target = []\n",
        "for label in df['intrusion_type'].values:\n",
        "    if label == 'normal.':\n",
        "        target.append(1)\n",
        "    else:\n",
        "        target.append(0)"
      ]
    },
    {
      "cell_type": "code",
      "execution_count": 40,
      "id": "communist-oxford",
      "metadata": {
        "id": "communist-oxford"
      },
      "outputs": [],
      "source": [
        "# Some utility functions\n",
        "\n",
        "# train-test split function with stratify feature to maintain class distribution\n",
        "def train_test(df, stratify_col, split):\n",
        "    train_indices, test_indices = np.array([]), np.array([])\n",
        "    \n",
        "    for class_name, val in df[stratify_col].value_counts().iteritems(): \n",
        "        class_samples_indices = df[df[stratify_col] == class_name].index.values\n",
        "        \n",
        "        class_test_indices = np.random.choice(class_samples_indices,\n",
        "                            size = int(np.ceil(split * val)), replace = False)\n",
        "        class_train_indices = np.setdiff1d(class_samples_indices, class_test_indices)\n",
        "        \n",
        "        test_indices = np.append(test_indices, class_test_indices)\n",
        "        train_indices = np.append(train_indices, class_train_indices)\n",
        "\n",
        "    print(test_indices.shape, train_indices.shape)\n",
        "    x_train = df.iloc[train_indices, :-1]\n",
        "    y_train = df.iloc[train_indices, -1]\n",
        "    x_test = df.iloc[test_indices, :-1]\n",
        "    y_test = df.iloc[test_indices, -1]\n",
        "    \n",
        "    return x_train, y_train, x_test, y_test\n",
        "\n",
        "# Prints confusion matrix and returns FP\n",
        "def confusion_matrix(y_test, y_pred, model):\n",
        "    tp, tn, fp, fn = 0, 0, 0, 0\n",
        "    for i in range(len(y_test)):\n",
        "        # If it's normal and predicted as normal\n",
        "        if y_test[i] == 1 and y_pred[i] == 1:\n",
        "            tp += 1\n",
        "        \n",
        "        # If it's bad and predicted as bad\n",
        "        if y_test[i] == 0 and y_pred[i] == 0:\n",
        "            tn += 1\n",
        "            \n",
        "        # If it's bad but predicted as normal\n",
        "        if y_test[i] == 0 and y_pred[i] == 1:\n",
        "            fp += 1\n",
        "            \n",
        "        # If it's normal but predicted as bad\n",
        "        if y_test[i] == 1 and y_pred[i] == 0:\n",
        "            fn += 1\n",
        "            \n",
        "    matrix = [[tn, fp], [fn, tp]]\n",
        "    cm_df = pd.DataFrame(matrix)\n",
        "    labels = ['BAD', 'NORMAL']\n",
        "    plt.figure(figsize=(3,3))\n",
        "    sns.heatmap(cm_df, annot=True, annot_kws={\"size\":12}, fmt='g', xticklabels=labels, yticklabels=labels)\n",
        "    plt.ylabel('Actual Class')\n",
        "    plt.xlabel('Predicted Class')\n",
        "    plt.title(model)\n",
        "    plt.show()\n",
        "    \n",
        "    return fp\n",
        "\n",
        "# To calculate accuracy\n",
        "def accuracy(y_test, y_pred):\n",
        "    return round(np.sum(y_test == y_pred)/y_test.shape[0] * 100, 2)"
      ]
    },
    {
      "cell_type": "markdown",
      "id": "premier-mount",
      "metadata": {
        "id": "premier-mount"
      },
      "source": [
        "## Gaussian naive bayes"
      ]
    },
    {
      "cell_type": "code",
      "execution_count": 41,
      "id": "eastern-location",
      "metadata": {
        "id": "eastern-location"
      },
      "outputs": [],
      "source": [
        "# Preparing dataset for gaussian naive bayes\n",
        "\n",
        "df_gnb = df.select_dtypes(include = ['float64', 'int64'])\n",
        "\n",
        "# Minimum percentage of variance we want to be described by the resulting transformed components\n",
        "var_threshold = 0.98\n",
        "pca_obj = PCA(n_components=var_threshold)\n",
        "num_features_transformed = pca_obj.fit_transform(StandardScaler().fit_transform(df_gnb)) \n",
        "\n",
        "df_gnb = pd.DataFrame(num_features_transformed)\n",
        "df_gnb['target'] = target\n",
        "\n",
        "df_gnb.to_pickle('gnb_dataset.pkl')"
      ]
    },
    {
      "cell_type": "code",
      "execution_count": 42,
      "id": "indonesian-theology",
      "metadata": {
        "id": "indonesian-theology"
      },
      "outputs": [],
      "source": [
        "# GNB Model\n",
        "\n",
        "class GNB:\n",
        "    def __init__(self, prior=None, n_class=None, mean=None, variance = None, classes=None):\n",
        "        self.prior = prior\n",
        "        self.n_class = n_class\n",
        "        self.mean = mean\n",
        "        self.variance = variance\n",
        "        self.classes = classes\n",
        "\n",
        "    def fit(self, x, y):\n",
        "        self.x = x\n",
        "        self.y = y\n",
        "        self.mean = np.array(x.groupby(by=y).mean())\n",
        "        self.variance = np.array(x.groupby(by=y).var())\n",
        "        self.n_class = len(np.unique(self.y))\n",
        "        self.classes = np.unique(self.y)\n",
        "        self.prior = 1/self.n_class\n",
        "\n",
        "    def calc_mean_var(self):\n",
        "        m = np.array(self.mean)\n",
        "        v = np.array(self.variance)\n",
        "\n",
        "        self.mean_var = []\n",
        "        for i in range(len(m)):\n",
        "            m_row = m[i]\n",
        "            v_row = v[i]\n",
        "            for a, b in enumerate(m_row):\n",
        "                mean = b\n",
        "                var = v_row[a]\n",
        "                self.mean_var.append([mean, var])\n",
        "        return self.mean_var\n",
        "\n",
        "    def split(self):\n",
        "        spt = np.vsplit(np.array(self.calc_mean_var()), self.n_class)\n",
        "        return spt\n",
        "\n",
        "    def gnb_base(self, x_val, x_mean, x_var):\n",
        "        self.x_val = x_val\n",
        "        self.x_mean = x_mean\n",
        "        self.x_var = x_var\n",
        "        \n",
        "        pi = np.pi\n",
        "        equation_1 = 1/(np.sqrt(2 * pi * x_var))\n",
        "        denom = 2 * x_var\n",
        "        numerator = (x_val - x_mean) ** 2\n",
        "        expo = np.exp(-(numerator/denom))\n",
        "        prob = equation_1 * expo\n",
        "\n",
        "        return prob\n",
        "\n",
        "    def predict(self, X):\n",
        "        self.X = X\n",
        "        split_class = self.split()\n",
        "        prob = []\n",
        "        for i in range(self.n_class):\n",
        "            class_one = split_class[i]\n",
        "            for i in range(len(class_one)):\n",
        "                class_one_x_mean = class_one[i][0]\n",
        "                class_one_x_var = class_one[i][1]\n",
        "                x_value = X[i] \n",
        "                prob.append([self.gnb_base(x_value, class_one_x_mean, class_one_x_var)])\n",
        "\n",
        "        prob_array = np.array(prob)\n",
        "        prob_split = np.vsplit(prob_array, self.n_class)\n",
        "        final_probabilities = []\n",
        "        for i in prob_split:\n",
        "            class_prob = np.prod(i) * self.prior\n",
        "            final_probabilities.append(class_prob)\n",
        "\n",
        "        maximum_prob = max(final_probabilities)\n",
        "        prob_index = final_probabilities.index(maximum_prob)\n",
        "        prediction = self.classes[prob_index]\n",
        "        return prediction"
      ]
    },
    {
      "cell_type": "markdown",
      "id": "friendly-debate",
      "metadata": {
        "id": "friendly-debate"
      },
      "source": [
        "## Decision Tree"
      ]
    },
    {
      "cell_type": "code",
      "execution_count": 43,
      "id": "chronic-habitat",
      "metadata": {
        "id": "chronic-habitat"
      },
      "outputs": [],
      "source": [
        "# Preparing dataset for decision tree\n",
        "\n",
        "df_dt = df.drop('intrusion_type', axis = 1)\n",
        "df_dt['target'] = target\n",
        "df_dt.to_pickle('dt_dataset.pkl')"
      ]
    },
    {
      "cell_type": "code",
      "execution_count": 44,
      "id": "seventh-boulder",
      "metadata": {
        "id": "seventh-boulder"
      },
      "outputs": [],
      "source": [
        "# DT Model\n",
        "\n",
        "def unique_vals(rows, col):\n",
        "    return set([row[col] for row in rows])\n",
        "\n",
        "def class_counts(rows):\n",
        "    counts = {} \n",
        "    for row in rows:\n",
        "        label = row[-1]\n",
        "        if label not in counts:\n",
        "            counts[label] = 0\n",
        "        counts[label] += 1\n",
        "    return counts\n",
        "\n",
        "def is_numeric(value):\n",
        "    return isinstance(value, int) or isinstance(value, float)\n",
        "\n",
        "class Question:\n",
        "    def __init__(self, column, value):\n",
        "        self.column = column\n",
        "        self.value = value\n",
        "\n",
        "    def match(self, example):\n",
        "        val = example[self.column]\n",
        "        if is_numeric(val):\n",
        "            return val >= self.value\n",
        "        else:\n",
        "            return val == self.value\n",
        "\n",
        "def partition(rows, question):\n",
        "    true_rows, false_rows = [], []\n",
        "    for row in rows:\n",
        "        if question.match(row):\n",
        "            true_rows.append(row)\n",
        "        else:\n",
        "            false_rows.append(row)\n",
        "    return true_rows, false_rows\n",
        "\n",
        "def gini(rows):\n",
        "    counts = class_counts(rows)\n",
        "    impurity = 1\n",
        "    for lbl in counts:\n",
        "        prob_of_lbl = counts[lbl] / float(len(rows))\n",
        "        impurity -= prob_of_lbl**2\n",
        "    return impurity\n",
        "\n",
        "def info_gain(left, right, current_uncertainty):\n",
        "    p = float(len(left)) / (len(left) + len(right))\n",
        "    return current_uncertainty - p * gini(left) - (1 - p) * gini(right)\n",
        "\n",
        "def find_best_split(rows):\n",
        "    best_gain = 0  # keep track of the best information gain\n",
        "    best_question = None  # keep train of the feature / value that produced it\n",
        "    current_uncertainty = gini(rows)\n",
        "    n_features = len(rows[0]) - 1  # number of columns\n",
        "\n",
        "    for col in range(n_features):  # for each feature\n",
        "        values = set([row[col] for row in rows])  # unique values in the column\n",
        "        for val in values:  # for each value\n",
        "            question = Question(col, val)\n",
        "  \n",
        "            true_rows, false_rows = partition(rows, question)\n",
        "\n",
        "            if len(true_rows) == 0 or len(false_rows) == 0:\n",
        "                continue\n",
        "\n",
        "            # Calculate the information gain from this split\n",
        "            gain = info_gain(true_rows, false_rows, current_uncertainty)\n",
        "\n",
        "            if gain >= best_gain:\n",
        "                best_gain, best_question = gain, question\n",
        "\n",
        "    return best_gain, best_question\n",
        "\n",
        "class Leaf:\n",
        "    def __init__(self, rows):\n",
        "        self.predictions = class_counts(rows)\n",
        "\n",
        "class Decision_Node:\n",
        "    def __init__(self,\n",
        "                 question,\n",
        "                 true_branch,\n",
        "                 false_branch):\n",
        "        self.question = question\n",
        "        self.true_branch = true_branch\n",
        "        self.false_branch = false_branch\n",
        "\n",
        "def build_tree(rows):\n",
        "    gain, question = find_best_split(rows)\n",
        "    if gain == 0:\n",
        "        return Leaf(rows)\n",
        "    \n",
        "    true_rows, false_rows = partition(rows, question)\n",
        "\n",
        "    true_branch = build_tree(true_rows)\n",
        "    false_branch = build_tree(false_rows)\n",
        "\n",
        "    return Decision_Node(question, true_branch, false_branch)\n",
        "\n",
        "def classify(row, node):\n",
        "    if isinstance(node, Leaf):\n",
        "        return node.predictions\n",
        "\n",
        "    if node.question.match(row):\n",
        "        return classify(row, node.true_branch)\n",
        "    else:\n",
        "        return classify(row, node.false_branch)"
      ]
    },
    {
      "cell_type": "markdown",
      "id": "regular-canadian",
      "metadata": {
        "id": "regular-canadian"
      },
      "source": [
        "## XGBoost"
      ]
    },
    {
      "cell_type": "code",
      "execution_count": 45,
      "id": "authentic-cooper",
      "metadata": {
        "id": "authentic-cooper"
      },
      "outputs": [],
      "source": [
        "# Preparing dataset for xgboost\n",
        "\n",
        "df_xgb = df.select_dtypes(include = ['float64', 'int64'])\n",
        "\n",
        "# Minimum percentage of variance we want to be described by the resulting transformed components\n",
        "var_threshold = 0.98\n",
        "pca_obj = PCA(n_components=var_threshold)\n",
        "num_features_transformed = pca_obj.fit_transform(StandardScaler().fit_transform(df_xgb)) \n",
        "\n",
        "df_xgb = pd.DataFrame(num_features_transformed)\n",
        "\n",
        "# Vectorizing Categorical features using one-hot encoding\n",
        "# Categorical features in our dataset are -> 'protocol_type', 'service', and 'flag'\n",
        "\n",
        "from sklearn.feature_extraction.text import CountVectorizer\n",
        "\n",
        "# protocol_type\n",
        "vocab = list(set(list(df['protocol_type'].values)))\n",
        "one_hot = CountVectorizer(vocabulary=vocab, binary=True)\n",
        "protocol_final = one_hot.fit_transform(df['protocol_type'].values)\n",
        "\n",
        "# service\n",
        "vocab = list(set(list(df['service'].values)))\n",
        "one_hot = CountVectorizer(vocabulary=vocab, binary=True)\n",
        "service_final = one_hot.fit_transform(df['service'].values)\n",
        "\n",
        "# flag\n",
        "vocab = list(set(list(df['flag'].values)))\n",
        "one_hot = CountVectorizer(vocabulary=vocab, binary=True)\n",
        "flag_final = one_hot.fit_transform(df['flag'].values)\n",
        "\n",
        "# Merging categorical and numeric features\n",
        "from scipy.sparse import hstack\n",
        "df_xgb = hstack((df_xgb, protocol_final, service_final, flag_final))\n",
        "df_xgb = pd.DataFrame(df_xgb.toarray())\n",
        "df_xgb['target'] = target\n",
        "df_xgb.to_pickle('xgb_dataset.pkl')"
      ]
    },
    {
      "cell_type": "code",
      "execution_count": 46,
      "id": "infinite-teens",
      "metadata": {
        "id": "infinite-teens"
      },
      "outputs": [],
      "source": [
        "# XGB Model\n",
        "from xgboost import XGBClassifier"
      ]
    },
    {
      "cell_type": "markdown",
      "id": "noted-amendment",
      "metadata": {
        "id": "noted-amendment"
      },
      "source": [
        "# Model Training & Testing"
      ]
    },
    {
      "cell_type": "code",
      "execution_count": 47,
      "id": "rapid-treatment",
      "metadata": {
        "id": "rapid-treatment"
      },
      "outputs": [],
      "source": [
        "from collections import defaultdict\n",
        "  \n",
        "results = defaultdict(list)"
      ]
    },
    {
      "cell_type": "markdown",
      "id": "growing-packing",
      "metadata": {
        "id": "growing-packing"
      },
      "source": [
        "### Gaussian naive bayes"
      ]
    },
    {
      "cell_type": "code",
      "execution_count": 48,
      "id": "functioning-excuse",
      "metadata": {
        "colab": {
          "base_uri": "https://localhost:8080/",
          "height": 0
        },
        "id": "functioning-excuse",
        "outputId": "6411e71e-78bd-4321-99e3-1dbab9659a70"
      },
      "outputs": [
        {
          "output_type": "stream",
          "name": "stdout",
          "text": [
            "(29118,) (116468,)\n",
            "Accuracy: 96.6%\n"
          ]
        },
        {
          "output_type": "display_data",
          "data": {
            "text/plain": [
              "<Figure size 216x216 with 2 Axes>"
            ],
            "image/png": "[encoded data removed]"
          },
          "metadata": {
            "needs_background": "light"
          }
        }
      ],
      "source": [
        "df = pd.read_pickle('gnb_dataset.pkl')\n",
        "\n",
        "x_train, y_train, x_test, y_test = train_test(df=df, stratify_col='target', split=0.20)\n",
        "\n",
        "gaussian_classifier = GNB()\n",
        "gaussian_classifier.fit(x_train, y_train)\n",
        "preds = []\n",
        "for test in x_test.values:\n",
        "    preds.append(gaussian_classifier.predict(test))\n",
        "y_pred = np.array(preds)\n",
        "\n",
        "acc = accuracy(y_test.values, y_pred)\n",
        "print(f\"Accuracy: {acc}%\")\n",
        "\n",
        "fp = confusion_matrix(y_test.values, y_pred, \"Gaussian Naive Bayes\")\n",
        "\n",
        "# Results\n",
        "results['Gaussian Naive Bayes'] = [acc, fp]"
      ]
    },
    {
      "cell_type": "markdown",
      "id": "minor-yukon",
      "metadata": {
        "id": "minor-yukon"
      },
      "source": [
        "### Decision Tree"
      ]
    },
    {
      "cell_type": "code",
      "execution_count": 49,
      "id": "continuing-float",
      "metadata": {
        "colab": {
          "base_uri": "https://localhost:8080/",
          "height": 258
        },
        "id": "continuing-float",
        "outputId": "13488d61-42da-40b6-9a72-fc48570311d9"
      },
      "outputs": [
        {
          "output_type": "stream",
          "name": "stdout",
          "text": [
            "Accuracy: 99.65%\n"
          ]
        },
        {
          "output_type": "display_data",
          "data": {
            "text/plain": [
              "<Figure size 216x216 with 2 Axes>"
            ],
            "image/png": "[encoded data removed]"
          },
          "metadata": {
            "needs_background": "light"
          }
        }
      ],
      "source": [
        "df = pd.read_pickle('dt_dataset.pkl')\n",
        "df = df.sample(frac=1).reset_index(drop=True)\n",
        "\n",
        "# As training on large dataset takes time, thus reducing the training set \n",
        "training_data = df.iloc[:10000, :].values.tolist()\n",
        "testing_data = df.iloc[int(np.ceil(.80 * df.shape[0])):, :].values.tolist()\n",
        "\n",
        "my_tree = build_tree(training_data)\n",
        "\n",
        "actual, predicted = [], []\n",
        "for row in testing_data:\n",
        "    actual.append(row[-1])\n",
        "    predicted.append(sorted(classify(row, my_tree).items(), key = lambda x: x[1], reverse = True)[0][0])\n",
        "\n",
        "acc = accuracy(np.array(actual), np.array(predicted))\n",
        "print(f\"Accuracy: {acc}%\")\n",
        "\n",
        "fp = confusion_matrix(np.array(actual), np.array(predicted), \"Decision Tree\")\n",
        "\n",
        "# Results\n",
        "results['Decision Tree'] = [acc, fp]"
      ]
    },
    {
      "cell_type": "markdown",
      "id": "wanted-frame",
      "metadata": {
        "id": "wanted-frame"
      },
      "source": [
        "### XGBoost"
      ]
    },
    {
      "cell_type": "code",
      "execution_count": 50,
      "id": "labeled-cutting",
      "metadata": {
        "colab": {
          "base_uri": "https://localhost:8080/",
          "height": 276
        },
        "id": "labeled-cutting",
        "outputId": "44a955e5-4afb-4402-9398-e2286ab98394"
      },
      "outputs": [
        {
          "output_type": "stream",
          "name": "stdout",
          "text": [
            "(29118,) (116468,)\n",
            "Accuracy: 99.68%\n"
          ]
        },
        {
          "output_type": "display_data",
          "data": {
            "text/plain": [
              "<Figure size 216x216 with 2 Axes>"
            ],
            "image/png": "[encoded data removed]"
          },
          "metadata": {
            "needs_background": "light"
          }
        }
      ],
      "source": [
        "df = pd.read_pickle('xgb_dataset.pkl')\n",
        "x_train, y_train, x_test, y_test = train_test(df=df, stratify_col='target', split=0.20)\n",
        "\n",
        "model = XGBClassifier()\n",
        "model.fit(x_train, y_train, eval_metric='rmse')\n",
        "y_pred = model.predict(x_test)\n",
        "\n",
        "acc = accuracy(y_test.values, y_pred)\n",
        "print(f\"Accuracy: {acc}%\")\n",
        "\n",
        "fp = confusion_matrix(y_test.values, y_pred, \"XGBoost\")\n",
        "\n",
        "# Results\n",
        "results['XGBoost'] = [acc, fp]"
      ]
    },
    {
      "cell_type": "markdown",
      "id": "cooperative-basic",
      "metadata": {
        "id": "cooperative-basic"
      },
      "source": [
        "### Max-Voting Ensemble Technique"
      ]
    },
    {
      "cell_type": "code",
      "execution_count": 51,
      "id": "julian-printing",
      "metadata": {
        "colab": {
          "base_uri": "https://localhost:8080/",
          "height": 258
        },
        "id": "julian-printing",
        "outputId": "fca987a0-6b66-4413-9585-1b37892a0f0f"
      },
      "outputs": [
        {
          "output_type": "stream",
          "name": "stdout",
          "text": [
            "Accuracy: 99.88%\n"
          ]
        },
        {
          "output_type": "display_data",
          "data": {
            "text/plain": [
              "<Figure size 216x216 with 2 Axes>"
            ],
            "image/png": "[encoded data removed]"
          },
          "metadata": {
            "needs_background": "light"
          }
        }
      ],
      "source": [
        "# Vote from GNB\n",
        "df = pd.read_pickle('gnb_dataset.pkl')\n",
        "preds = []\n",
        "test_set = df.iloc[int(np.ceil(.80 * df.shape[0])):, :-1]\n",
        "for test in test_set.values:\n",
        "    preds.append(gaussian_classifier.predict(test))\n",
        "gnb_preds = np.array(preds)\n",
        "\n",
        "# Vote from DT\n",
        "df = pd.read_pickle('dt_dataset.pkl')\n",
        "test_set = df.iloc[int(np.ceil(.80 * df.shape[0])):, :].values.tolist()\n",
        "predicted = []\n",
        "for row in test_set:\n",
        "    predicted.append(sorted(classify(row, my_tree).items(), key = lambda x: x[1], reverse = True)[0][0])\n",
        "dt_preds = np.array(predicted)\n",
        "    \n",
        "# Vote from XGBoost\n",
        "df = pd.read_pickle('xgb_dataset.pkl')\n",
        "test_set = df.iloc[int(np.ceil(.80 * df.shape[0])):, :-1]\n",
        "xgb_preds = model.predict(test_set)\n",
        "\n",
        "# Max-voting ensemble technique\n",
        "y_test_pred_maxvote = []\n",
        "for tup in list(zip(gnb_preds, dt_preds, xgb_preds)):\n",
        "    y_test_pred_maxvote.append(np.bincount(tup).argmax())\n",
        "max_vote_preds = np.array(y_test_pred_maxvote)\n",
        "\n",
        "# Evaluation    \n",
        "y_test = df.iloc[int(np.ceil(.80 * df.shape[0])):, -1]\n",
        "\n",
        "acc = accuracy(y_test.values, max_vote_preds)\n",
        "print(f\"Accuracy: {acc}%\")\n",
        "\n",
        "fp = confusion_matrix(y_test.values, max_vote_preds, \"Max Voting Technique\")\n",
        "\n",
        "# Results\n",
        "results['Max Voting Technique'] = [acc, fp]"
      ]
    },
    {
      "cell_type": "code",
      "execution_count": 52,
      "id": "challenging-defendant",
      "metadata": {
        "colab": {
          "base_uri": "https://localhost:8080/"
        },
        "id": "challenging-defendant",
        "outputId": "9aed1d8b-7b3e-46af-8ed7-032973f223fd"
      },
      "outputs": [
        {
          "output_type": "stream",
          "name": "stdout",
          "text": [
            "+----------------------+----------+-----------------+\n",
            "|      Technique       | Accuracy | False Positives |\n",
            "+----------------------+----------+-----------------+\n",
            "| Gaussian Naive Bayes |   96.6   |       482       |\n",
            "|    Decision Tree     |  99.65   |        69       |\n",
            "|       XGBoost        |  99.68   |        63       |\n",
            "| Max Voting Technique |  99.88   |        25       |\n",
            "+----------------------+----------+-----------------+\n"
          ]
        }
      ],
      "source": [
        "# Results\n",
        "from prettytable import PrettyTable\n",
        "x = PrettyTable()\n",
        "x.field_names = [\"Technique\", \"Accuracy\", \"False Positives\"]\n",
        "x.add_row(['Gaussian Naive Bayes'] + results['Gaussian Naive Bayes'])\n",
        "x.add_row(['Decision Tree']  + results['Decision Tree'])\n",
        "x.add_row(['XGBoost'] + results['XGBoost'])\n",
        "x.add_row(['Max Voting Technique'] + results['Max Voting Technique'])\n",
        "print(x)"
      ]
    },
    {
      "cell_type": "markdown",
      "id": "b6e30875",
      "metadata": {
        "id": "b6e30875"
      },
      "source": [
        "# MODEL-2"
      ]
    },
    {
      "cell_type": "code",
      "execution_count": 53,
      "id": "b1e1877e",
      "metadata": {
        "colab": {
          "base_uri": "https://localhost:8080/"
        },
        "id": "b1e1877e",
        "outputId": "bc6038d1-4f2d-4480-ef4a-886563a1664a"
      },
      "outputs": [
        {
          "output_type": "stream",
          "name": "stdout",
          "text": [
            "(29118,) (116468,)\n"
          ]
        }
      ],
      "source": [
        "# Define estimators\n",
        "from sklearn.ensemble import StackingClassifier\n",
        "from sklearn.linear_model import LogisticRegression\n",
        "\n",
        "x_train, y_train, x_test, y_test = train_test(df=df, stratify_col='target', split=0.20)"
      ]
    },
    {
      "cell_type": "code",
      "execution_count": 54,
      "id": "1d149972",
      "metadata": {
        "colab": {
          "base_uri": "https://localhost:8080/"
        },
        "id": "1d149972",
        "outputId": "6c189ce7-dac6-48b1-951e-ec61355747fd"
      },
      "outputs": [
        {
          "output_type": "execute_result",
          "data": {
            "text/plain": [
              "array([[ 1.99141285e+00, -6.23400244e-01, -4.61350772e-02, ...,\n",
              "         0.00000000e+00,  0.00000000e+00,  0.00000000e+00],\n",
              "       [ 1.97638866e+00, -6.47418536e-01, -5.57587653e-02, ...,\n",
              "         0.00000000e+00,  0.00000000e+00,  0.00000000e+00],\n",
              "       [ 1.97431555e+00, -6.61887990e-01, -5.85593220e-02, ...,\n",
              "         0.00000000e+00,  0.00000000e+00,  0.00000000e+00],\n",
              "       ...,\n",
              "       [ 7.14360557e-01, -1.16879882e-01, -1.42127264e-03, ...,\n",
              "         0.00000000e+00,  0.00000000e+00,  0.00000000e+00],\n",
              "       [ 7.24156200e-01, -1.17278125e-01, -1.53544781e-03, ...,\n",
              "         0.00000000e+00,  0.00000000e+00,  0.00000000e+00],\n",
              "       [ 7.24052264e-01, -1.18359708e-01, -2.09322731e-03, ...,\n",
              "         0.00000000e+00,  0.00000000e+00,  0.00000000e+00]])"
            ]
          },
          "metadata": {},
          "execution_count": 54
        }
      ],
      "source": [
        "x_train = np.asarray(x_train)\n",
        "x_train"
      ]
    },
    {
      "cell_type": "code",
      "execution_count": 55,
      "id": "ab8b06cf",
      "metadata": {
        "colab": {
          "base_uri": "https://localhost:8080/"
        },
        "id": "ab8b06cf",
        "outputId": "c1f2bd1b-57af-4f32-c725-603c39fb26e1"
      },
      "outputs": [
        {
          "output_type": "execute_result",
          "data": {
            "text/plain": [
              "array([1, 1, 1, ..., 0, 0, 0])"
            ]
          },
          "metadata": {},
          "execution_count": 55
        }
      ],
      "source": [
        "y_train = np.asarray(y_train)\n",
        "y_train"
      ]
    },
    {
      "cell_type": "code",
      "execution_count": 56,
      "id": "ad5e55fb",
      "metadata": {
        "colab": {
          "base_uri": "https://localhost:8080/"
        },
        "id": "ad5e55fb",
        "outputId": "f548cdd8-1729-429d-be21-b36dcf428d97"
      },
      "outputs": [
        {
          "output_type": "execute_result",
          "data": {
            "text/plain": [
              "array([[ 2.74902574e+00, -8.56571662e-01, -1.11065783e-01, ...,\n",
              "         0.00000000e+00,  0.00000000e+00,  0.00000000e+00],\n",
              "       [ 1.85438383e+00, -4.14637911e-01, -1.64232727e-03, ...,\n",
              "         0.00000000e+00,  0.00000000e+00,  0.00000000e+00],\n",
              "       [ 2.14102350e+00, -8.87127376e-01, -1.03579438e-01, ...,\n",
              "         0.00000000e+00,  0.00000000e+00,  0.00000000e+00],\n",
              "       ...,\n",
              "       [-1.48206353e+00,  6.19605082e+00, -3.04543031e-02, ...,\n",
              "         0.00000000e+00,  0.00000000e+00,  0.00000000e+00],\n",
              "       [-3.91244201e+00, -1.03670308e+00, -3.36139393e-03, ...,\n",
              "         0.00000000e+00,  0.00000000e+00,  0.00000000e+00],\n",
              "       [-1.61969747e+00,  6.21472028e+00, -3.73827398e-02, ...,\n",
              "         0.00000000e+00,  0.00000000e+00,  0.00000000e+00]])"
            ]
          },
          "metadata": {},
          "execution_count": 56
        }
      ],
      "source": [
        "x_test = np.asarray(x_test)\n",
        "x_test"
      ]
    },
    {
      "cell_type": "code",
      "execution_count": 57,
      "id": "c9f979a4",
      "metadata": {
        "colab": {
          "base_uri": "https://localhost:8080/"
        },
        "id": "c9f979a4",
        "outputId": "d28b42ed-8171-4c3e-d1a2-aeed2a3bc16e"
      },
      "outputs": [
        {
          "output_type": "execute_result",
          "data": {
            "text/plain": [
              "array([1, 1, 1, ..., 0, 0, 0])"
            ]
          },
          "metadata": {},
          "execution_count": 57
        }
      ],
      "source": [
        "y_test = np.asarray(y_test)\n",
        "y_test"
      ]
    },
    {
      "cell_type": "markdown",
      "id": "61a6939a",
      "metadata": {
        "id": "61a6939a"
      },
      "source": [
        "# **Build Classification models**"
      ]
    },
    {
      "cell_type": "code",
      "execution_count": 58,
      "id": "11110ce4",
      "metadata": {
        "id": "11110ce4"
      },
      "outputs": [],
      "source": [
        "from sklearn.metrics import accuracy_score\n",
        "from sklearn.metrics import matthews_corrcoef\n",
        "from sklearn.metrics import f1_score"
      ]
    },
    {
      "cell_type": "markdown",
      "id": "15a9fb6c",
      "metadata": {
        "id": "15a9fb6c"
      },
      "source": [
        "**K nearest neighbors**"
      ]
    },
    {
      "cell_type": "code",
      "execution_count": 59,
      "id": "f31fd780",
      "metadata": {
        "colab": {
          "base_uri": "https://localhost:8080/",
          "height": 397
        },
        "id": "f31fd780",
        "outputId": "adb9d070-3299-44ca-c527-fcd98c98aeda"
      },
      "outputs": [
        {
          "output_type": "stream",
          "name": "stdout",
          "text": [
            "Model performance for Training set\n",
            "- Accuracy: 0.9991757392588522\n",
            "- MCC: 0.9982780063596725\n",
            "- F1 score: 0.9991757453669852\n",
            "----------------------------------\n",
            "Model performance for Test set\n",
            "- Accuracy: 0.9986949653135517\n",
            "- MCC: 0.9972735473640854\n",
            "- F1 score: 0.9986949653135517\n"
          ]
        },
        {
          "output_type": "display_data",
          "data": {
            "text/plain": [
              "<Figure size 216x216 with 2 Axes>"
            ],
            "image/png": "[encoded data removed]"
          },
          "metadata": {
            "needs_background": "light"
          }
        }
      ],
      "source": [
        "from sklearn.neighbors import KNeighborsClassifier\n",
        "\n",
        "knn = KNeighborsClassifier(3) # Define classifier\n",
        "knn.fit(x_train, y_train) # Train model\n",
        "\n",
        "# Make predictions\n",
        "y_train_pred = knn.predict(x_train)\n",
        "y_test_pred = knn.predict(x_test)\n",
        "\n",
        "# Training set performance\n",
        "knn_train_accuracy = accuracy_score(y_train, y_train_pred) # Calculate Accuracy\n",
        "knn_train_mcc = matthews_corrcoef(y_train, y_train_pred) # Calculate MCC\n",
        "knn_train_f1 = f1_score(y_train, y_train_pred, average='weighted') # Calculate F1-score\n",
        "\n",
        "# Test set performance\n",
        "knn_test_accuracy = accuracy_score(y_test, y_test_pred) # Calculate Accuracy\n",
        "knn_test_mcc = matthews_corrcoef(y_test, y_test_pred) # Calculate MCC\n",
        "knn_test_f1 = f1_score(y_test, y_test_pred, average='weighted') # Calculate F1-score\n",
        "\n",
        "print('Model performance for Training set')\n",
        "print('- Accuracy: %s' % knn_train_accuracy)\n",
        "print('- MCC: %s' % knn_train_mcc)\n",
        "print('- F1 score: %s' % knn_train_f1)\n",
        "print('----------------------------------')\n",
        "print('Model performance for Test set')\n",
        "print('- Accuracy: %s' % knn_test_accuracy)\n",
        "print('- MCC: %s' % knn_test_mcc)\n",
        "print('- F1 score: %s' % knn_test_f1)\n",
        "fp = confusion_matrix(y_test, y_test_pred, \"K nearest neighbors\")"
      ]
    },
    {
      "cell_type": "markdown",
      "id": "e173dc12",
      "metadata": {
        "id": "e173dc12"
      },
      "source": [
        "**Support vector machine (Radial basis function kernel)**"
      ]
    },
    {
      "cell_type": "code",
      "execution_count": 60,
      "id": "76ce6142",
      "metadata": {
        "colab": {
          "base_uri": "https://localhost:8080/",
          "height": 397
        },
        "id": "76ce6142",
        "outputId": "4a448e31-10a0-4c08-cd6e-98a632853eb1"
      },
      "outputs": [
        {
          "output_type": "stream",
          "name": "stdout",
          "text": [
            "Model performance for Training set\n",
            "- Accuracy: 0.9995706975306522\n",
            "- MCC: 0.9991031059330951\n",
            "- F1 score: 0.999570683200456\n",
            "----------------------------------\n",
            "Model performance for Test set\n",
            "- Accuracy: 0.9966687272477506\n",
            "- MCC: 0.9930521940660939\n",
            "- F1 score: 0.9966664432639952\n"
          ]
        },
        {
          "output_type": "display_data",
          "data": {
            "text/plain": [
              "<Figure size 216x216 with 2 Axes>"
            ],
            "image/png": "[encoded data removed]"
          },
          "metadata": {
            "needs_background": "light"
          }
        }
      ],
      "source": [
        "from sklearn.svm import SVC\n",
        "\n",
        "svm_rbf = SVC(gamma=2, C=1)\n",
        "svm_rbf.fit(x_train, y_train)\n",
        "\n",
        "# Make predictions\n",
        "y_train_pred = svm_rbf.predict(x_train)\n",
        "y_test_pred = svm_rbf.predict(x_test)\n",
        "\n",
        "# Training set performance\n",
        "svm_rbf_train_accuracy = accuracy_score(y_train, y_train_pred) # Calculate Accuracy\n",
        "svm_rbf_train_mcc = matthews_corrcoef(y_train, y_train_pred) # Calculate MCC\n",
        "svm_rbf_train_f1 = f1_score(y_train, y_train_pred, average='weighted') # Calculate F1-score\n",
        "\n",
        "# Test set performance\n",
        "svm_rbf_test_accuracy = accuracy_score(y_test, y_test_pred) # Calculate Accuracy\n",
        "svm_rbf_test_mcc = matthews_corrcoef(y_test, y_test_pred) # Calculate MCC\n",
        "svm_rbf_test_f1 = f1_score(y_test, y_test_pred, average='weighted') # Calculate F1-score\n",
        "\n",
        "print('Model performance for Training set')\n",
        "print('- Accuracy: %s' % svm_rbf_train_accuracy)\n",
        "print('- MCC: %s' % svm_rbf_train_mcc)\n",
        "print('- F1 score: %s' % svm_rbf_train_f1)\n",
        "print('----------------------------------')\n",
        "print('Model performance for Test set')\n",
        "print('- Accuracy: %s' % svm_rbf_test_accuracy)\n",
        "print('- MCC: %s' % svm_rbf_test_mcc)\n",
        "print('- F1 score: %s' % svm_rbf_test_f1)\n",
        "fp = confusion_matrix(y_test, y_test_pred, \"Support vector machine\")"
      ]
    },
    {
      "cell_type": "markdown",
      "id": "52ae95c6",
      "metadata": {
        "id": "52ae95c6"
      },
      "source": [
        "**Decision tree**"
      ]
    },
    {
      "cell_type": "code",
      "execution_count": 61,
      "id": "9bbccff9",
      "metadata": {
        "colab": {
          "base_uri": "https://localhost:8080/",
          "height": 397
        },
        "id": "9bbccff9",
        "outputId": "409fbc68-52ce-4962-b45f-80e870a79a65"
      },
      "outputs": [
        {
          "output_type": "stream",
          "name": "stdout",
          "text": [
            "Model performance for Training set\n",
            "- Accuracy: 0.9913280901191743\n",
            "- MCC: 0.9819161161778884\n",
            "- F1 score: 0.9913162106811411\n",
            "----------------------------------\n",
            "Model performance for Test set\n",
            "- Accuracy: 0.990761728140669\n",
            "- MCC: 0.9807295527494517\n",
            "- F1 score: 0.9907490726493235\n"
          ]
        },
        {
          "output_type": "display_data",
          "data": {
            "text/plain": [
              "<Figure size 216x216 with 2 Axes>"
            ],
            "image/png": "[encoded data removed]"
          },
          "metadata": {
            "needs_background": "light"
          }
        }
      ],
      "source": [
        "from sklearn.tree import DecisionTreeClassifier\n",
        "\n",
        "dt = DecisionTreeClassifier(max_depth=5) # Define classifier\n",
        "dt.fit(x_train, y_train) # Train model\n",
        "\n",
        "# Make predictions\n",
        "y_train_pred = dt.predict(x_train)\n",
        "y_test_pred = dt.predict(x_test)\n",
        "\n",
        "# Training set performance\n",
        "dt_train_accuracy = accuracy_score(y_train, y_train_pred) # Calculate Accuracy\n",
        "dt_train_mcc = matthews_corrcoef(y_train, y_train_pred) # Calculate MCC\n",
        "dt_train_f1 = f1_score(y_train, y_train_pred, average='weighted') # Calculate F1-score\n",
        "\n",
        "# Test set performance\n",
        "dt_test_accuracy = accuracy_score(y_test, y_test_pred) # Calculate Accuracy\n",
        "dt_test_mcc = matthews_corrcoef(y_test, y_test_pred) # Calculate MCC\n",
        "dt_test_f1 = f1_score(y_test, y_test_pred, average='weighted') # Calculate F1-score\n",
        "\n",
        "print('Model performance for Training set')\n",
        "print('- Accuracy: %s' % dt_train_accuracy)\n",
        "print('- MCC: %s' % dt_train_mcc)\n",
        "print('- F1 score: %s' % dt_train_f1)\n",
        "print('----------------------------------')\n",
        "print('Model performance for Test set')\n",
        "print('- Accuracy: %s' % dt_test_accuracy)\n",
        "print('- MCC: %s' % dt_test_mcc)\n",
        "print('- F1 score: %s' % dt_test_f1)\n",
        "fp = confusion_matrix(y_test, y_test_pred, \"Decision tree\")"
      ]
    },
    {
      "cell_type": "markdown",
      "id": "0facc27e",
      "metadata": {
        "id": "0facc27e"
      },
      "source": [
        "**Random forest**"
      ]
    },
    {
      "cell_type": "code",
      "execution_count": 62,
      "id": "d9d0edf3",
      "metadata": {
        "colab": {
          "base_uri": "https://localhost:8080/",
          "height": 397
        },
        "id": "d9d0edf3",
        "outputId": "87e8136c-7024-4143-8755-7b0bcd90a762"
      },
      "outputs": [
        {
          "output_type": "stream",
          "name": "stdout",
          "text": [
            "Model performance for Training set\n",
            "- Accuracy: 0.9999227255555174\n",
            "- MCC: 0.9998385637047219\n",
            "- F1 score: 0.9999227259850151\n",
            "----------------------------------\n",
            "Model performance for Test set\n",
            "- Accuracy: 0.9985232502232296\n",
            "- MCC: 0.9969147604271503\n",
            "- F1 score: 0.9985232392756984\n"
          ]
        },
        {
          "output_type": "display_data",
          "data": {
            "text/plain": [
              "<Figure size 216x216 with 2 Axes>"
            ],
            "image/png": "[encoded data removed]"
          },
          "metadata": {
            "needs_background": "light"
          }
        }
      ],
      "source": [
        "from sklearn.ensemble import RandomForestClassifier\n",
        "\n",
        "rf = RandomForestClassifier(n_estimators=10) # Define classifier\n",
        "rf.fit(x_train, y_train) # Train model\n",
        "\n",
        "# Make predictions\n",
        "y_train_pred = rf.predict(x_train)\n",
        "y_test_pred = rf.predict(x_test)\n",
        "\n",
        "# Training set performance\n",
        "rf_train_accuracy = accuracy_score(y_train, y_train_pred) # Calculate Accuracy\n",
        "rf_train_mcc = matthews_corrcoef(y_train, y_train_pred) # Calculate MCC\n",
        "rf_train_f1 = f1_score(y_train, y_train_pred, average='weighted') # Calculate F1-score\n",
        "\n",
        "# Test set performance\n",
        "rf_test_accuracy = accuracy_score(y_test, y_test_pred) # Calculate Accuracy\n",
        "rf_test_mcc = matthews_corrcoef(y_test, y_test_pred) # Calculate MCC\n",
        "rf_test_f1 = f1_score(y_test, y_test_pred, average='weighted') # Calculate F1-score\n",
        "\n",
        "print('Model performance for Training set')\n",
        "print('- Accuracy: %s' % rf_train_accuracy)\n",
        "print('- MCC: %s' % rf_train_mcc)\n",
        "print('- F1 score: %s' % rf_train_f1)\n",
        "print('----------------------------------')\n",
        "print('Model performance for Test set')\n",
        "print('- Accuracy: %s' % rf_test_accuracy)\n",
        "print('- MCC: %s' % rf_test_mcc)\n",
        "print('- F1 score: %s' % rf_test_f1)\n",
        "fp = confusion_matrix(y_test, y_test_pred, \"Random forest\")"
      ]
    },
    {
      "cell_type": "markdown",
      "id": "62085b7e",
      "metadata": {
        "id": "62085b7e"
      },
      "source": [
        "**Neural network**"
      ]
    },
    {
      "cell_type": "code",
      "execution_count": 63,
      "id": "0c1cf611",
      "metadata": {
        "colab": {
          "base_uri": "https://localhost:8080/",
          "height": 397
        },
        "id": "0c1cf611",
        "outputId": "b809a992-5eb5-4fde-f89b-5e999327483d"
      },
      "outputs": [
        {
          "output_type": "stream",
          "name": "stdout",
          "text": [
            "Model performance for Training set\n",
            "- Accuracy: 0.9866229350551224\n",
            "- MCC: 0.9721384343888166\n",
            "- F1 score: 0.9865933200674359\n",
            "----------------------------------\n",
            "Model performance for Test set\n",
            "- Accuracy: 0.9863314788103579\n",
            "- MCC: 0.9715246769922284\n",
            "- F1 score: 0.9863014417002924\n"
          ]
        },
        {
          "output_type": "display_data",
          "data": {
            "text/plain": [
              "<Figure size 216x216 with 2 Axes>"
            ],
            "image/png": "[encoded data removed]"
          },
          "metadata": {
            "needs_background": "light"
          }
        }
      ],
      "source": [
        "from sklearn.neural_network import MLPClassifier\n",
        "\n",
        "mlp = MLPClassifier(alpha=1, max_iter=1000)\n",
        "mlp.fit(x_train, y_train)\n",
        "\n",
        "# Make predictions\n",
        "y_train_pred = mlp.predict(x_train)\n",
        "y_test_pred = mlp.predict(x_test)\n",
        "\n",
        "# Training set performance\n",
        "mlp_train_accuracy = accuracy_score(y_train, y_train_pred) # Calculate Accuracy\n",
        "mlp_train_mcc = matthews_corrcoef(y_train, y_train_pred) # Calculate MCC\n",
        "mlp_train_f1 = f1_score(y_train, y_train_pred, average='weighted') # Calculate F1-score\n",
        "\n",
        "# Test set performance\n",
        "mlp_test_accuracy = accuracy_score(y_test, y_test_pred) # Calculate Accuracy\n",
        "mlp_test_mcc = matthews_corrcoef(y_test, y_test_pred) # Calculate MCC\n",
        "mlp_test_f1 = f1_score(y_test, y_test_pred, average='weighted') # Calculate F1-score\n",
        "\n",
        "print('Model performance for Training set')\n",
        "print('- Accuracy: %s' % mlp_train_accuracy)\n",
        "print('- MCC: %s' % mlp_train_mcc)\n",
        "print('- F1 score: %s' % mlp_train_f1)\n",
        "print('----------------------------------')\n",
        "print('Model performance for Test set')\n",
        "print('- Accuracy: %s' % mlp_test_accuracy)\n",
        "print('- MCC: %s' % mlp_test_mcc)\n",
        "print('- F1 score: %s' % mlp_test_f1)\n",
        "fp = confusion_matrix(y_test, y_test_pred, \"Neural network\")"
      ]
    },
    {
      "cell_type": "markdown",
      "id": "4e85896a",
      "metadata": {
        "id": "4e85896a"
      },
      "source": [
        "**XGboost**"
      ]
    },
    {
      "cell_type": "code",
      "execution_count": 64,
      "id": "90570f85",
      "metadata": {
        "id": "90570f85"
      },
      "outputs": [],
      "source": [
        "from xgboost import XGBClassifier"
      ]
    },
    {
      "cell_type": "code",
      "execution_count": 65,
      "id": "da2e431f",
      "metadata": {
        "id": "da2e431f"
      },
      "outputs": [],
      "source": [
        "xgbc=XGBClassifier()\n"
      ]
    },
    {
      "cell_type": "code",
      "execution_count": 66,
      "id": "95853778",
      "metadata": {
        "colab": {
          "base_uri": "https://localhost:8080/"
        },
        "id": "95853778",
        "outputId": "cf1bdc99-558a-4a03-f5a3-661dd4ef323f"
      },
      "outputs": [
        {
          "output_type": "stream",
          "name": "stdout",
          "text": [
            "XGBClassifier()\n"
          ]
        }
      ],
      "source": [
        "print(xgbc)"
      ]
    },
    {
      "cell_type": "markdown",
      "id": "9a279911",
      "metadata": {
        "id": "9a279911"
      },
      "source": [
        "XGBClassifier(base_score=0.5, booster='gbtree', colsample_bylevel=1,\n",
        "       colsample_bynode=1, colsample_bytree=1, gamma=0, learning_rate=0.1,\n",
        "       max_delta_step=0, max_depth=3, min_child_weight=1, missing=None,\n",
        "       n_estimators=100, n_jobs=1, nthread=None,\n",
        "       objective='multi:softprob', random_state=0, reg_alpha=0,\n",
        "       reg_lambda=1, scale_pos_weight=1, seed=None, silent=None,\n",
        "       subsample=1, verbosity=1)"
      ]
    },
    {
      "cell_type": "raw",
      "id": "d51248ee",
      "metadata": {
        "id": "d51248ee"
      },
      "source": [
        "XGBClassifier(max_depth=3, n_estimators=100,\n",
        "                            objective='binary:logistic', booster='gbtree',\n",
        "                            n_jobs=2, random_state=1)\n"
      ]
    },
    {
      "cell_type": "code",
      "execution_count": 67,
      "id": "cd8a5cdc",
      "metadata": {
        "colab": {
          "base_uri": "https://localhost:8080/"
        },
        "id": "cd8a5cdc",
        "outputId": "f1aa3735-2a42-4cef-cd10-a04f21284429"
      },
      "outputs": [
        {
          "output_type": "execute_result",
          "data": {
            "text/plain": [
              "XGBClassifier()"
            ]
          },
          "metadata": {},
          "execution_count": 67
        }
      ],
      "source": [
        "xgbc.fit(x_train, y_train, eval_metric='rmse')\n",
        "#xgb_model.fit(X_train, y_train, sample_weight=classes_weights)"
      ]
    },
    {
      "cell_type": "code",
      "execution_count": 68,
      "id": "10e13d12",
      "metadata": {
        "colab": {
          "base_uri": "https://localhost:8080/",
          "height": 397
        },
        "id": "10e13d12",
        "outputId": "a622c6bb-8bca-49bb-8c7f-1f4b61c72f53"
      },
      "outputs": [
        {
          "output_type": "stream",
          "name": "stdout",
          "text": [
            "Model performance for Training set\n",
            "- Accuracy: 0.9970463990108871\n",
            "- MCC: 0.9938288671966665\n",
            "- F1 score: 0.9970457829411681\n",
            "----------------------------------\n",
            "Model performance for Test set\n",
            "- Accuracy: 0.9969091283742015\n",
            "- MCC: 0.9935417352269086\n",
            "- F1 score: 0.9969087607634012\n"
          ]
        },
        {
          "output_type": "display_data",
          "data": {
            "text/plain": [
              "<Figure size 216x216 with 2 Axes>"
            ],
            "image/png": "[encoded data removed]"
          },
          "metadata": {
            "needs_background": "light"
          }
        }
      ],
      "source": [
        "# Make predictions\n",
        "y_train_pred = xgbc.predict(x_train)\n",
        "y_test_pred = xgbc.predict(x_test)\n",
        "\n",
        "# Training set performance\n",
        "xgbc_train_accuracy = accuracy_score(y_train, y_train_pred) # Calculate Accuracy\n",
        "xgbc_train_mcc = matthews_corrcoef(y_train, y_train_pred) # Calculate MCC\n",
        "xgbc_train_f1 = f1_score(y_train, y_train_pred, average='weighted') # Calculate F1-score\n",
        "\n",
        "# Test set performance\n",
        "xgbc_test_accuracy = accuracy_score(y_test, y_test_pred) # Calculate Accuracy\n",
        "xgbc_test_mcc = matthews_corrcoef(y_test, y_test_pred) # Calculate MCC\n",
        "xgbc_test_f1 = f1_score(y_test, y_test_pred, average='weighted') # Calculate F1-score\n",
        "\n",
        "print('Model performance for Training set')\n",
        "print('- Accuracy: %s' % xgbc_train_accuracy)\n",
        "print('- MCC: %s' % xgbc_train_mcc)\n",
        "print('- F1 score: %s' % xgbc_train_f1)\n",
        "print('----------------------------------')\n",
        "print('Model performance for Test set')\n",
        "print('- Accuracy: %s' % xgbc_test_accuracy)\n",
        "print('- MCC: %s' % xgbc_test_mcc)\n",
        "print('- F1 score: %s' % xgbc_test_f1)\n",
        "fp = confusion_matrix(y_test, y_test_pred, \"XGboost \")"
      ]
    },
    {
      "cell_type": "markdown",
      "id": "2ff02e7f",
      "metadata": {
        "id": "2ff02e7f"
      },
      "source": [
        "**Gaussian Naive Bayes**"
      ]
    },
    {
      "cell_type": "code",
      "execution_count": 69,
      "id": "e5dedd1f",
      "metadata": {
        "id": "e5dedd1f"
      },
      "outputs": [],
      "source": [
        "from sklearn.naive_bayes import GaussianNB\n",
        "\n",
        "gnbc = GaussianNB()\n"
      ]
    },
    {
      "cell_type": "code",
      "execution_count": 70,
      "id": "a367eab6",
      "metadata": {
        "colab": {
          "base_uri": "https://localhost:8080/"
        },
        "id": "a367eab6",
        "outputId": "d8a8df8d-d94d-4b28-d9f4-b823755a7f03"
      },
      "outputs": [
        {
          "output_type": "stream",
          "name": "stdout",
          "text": [
            "GaussianNB()\n"
          ]
        }
      ],
      "source": [
        "print(gnbc)"
      ]
    },
    {
      "cell_type": "code",
      "execution_count": 71,
      "id": "70d7313e",
      "metadata": {
        "colab": {
          "base_uri": "https://localhost:8080/"
        },
        "id": "70d7313e",
        "outputId": "c105ec82-18ca-4c47-a55b-633e851c8f9e"
      },
      "outputs": [
        {
          "output_type": "execute_result",
          "data": {
            "text/plain": [
              "GaussianNB()"
            ]
          },
          "metadata": {},
          "execution_count": 71
        }
      ],
      "source": [
        "gnbc.fit(x_train, y_train)"
      ]
    },
    {
      "cell_type": "code",
      "execution_count": 72,
      "id": "0a1f1c63",
      "metadata": {
        "colab": {
          "base_uri": "https://localhost:8080/",
          "height": 397
        },
        "id": "0a1f1c63",
        "outputId": "3524c342-dd74-490f-b09a-f73d8849de8a"
      },
      "outputs": [
        {
          "output_type": "stream",
          "name": "stdout",
          "text": [
            "Model performance for Training set\n",
            "- Accuracy: 0.639944018957997\n",
            "- MCC: 0.23196727075653065\n",
            "- F1 score: 0.5348611879353562\n",
            "----------------------------------\n",
            "Model performance for Test set\n",
            "- Accuracy: 0.6387801359983515\n",
            "- MCC: 0.22755575448186915\n",
            "- F1 score: 0.5326998263321133\n"
          ]
        },
        {
          "output_type": "display_data",
          "data": {
            "text/plain": [
              "<Figure size 216x216 with 2 Axes>"
            ],
            "image/png": "[encoded data removed]"
          },
          "metadata": {
            "needs_background": "light"
          }
        }
      ],
      "source": [
        "# Make predictions\n",
        "y_train_pred = gnbc.predict(x_train)\n",
        "y_test_pred = gnbc.predict(x_test)\n",
        "\n",
        "# Training set performance\n",
        "gnbc_train_accuracy = accuracy_score(y_train, y_train_pred) # Calculate Accuracy\n",
        "gnbc_train_mcc = matthews_corrcoef(y_train, y_train_pred) # Calculate MCC\n",
        "gnbc_train_f1 = f1_score(y_train, y_train_pred, average='weighted') # Calculate F1-score\n",
        "\n",
        "# Test set performance\n",
        "gnbc_test_accuracy = accuracy_score(y_test, y_test_pred) # Calculate Accuracy\n",
        "gnbc_test_mcc = matthews_corrcoef(y_test, y_test_pred) # Calculate MCC\n",
        "gnbc_test_f1 = f1_score(y_test, y_test_pred, average='weighted') # Calculate F1-score\n",
        "\n",
        "print('Model performance for Training set')\n",
        "print('- Accuracy: %s' % gnbc_train_accuracy)\n",
        "print('- MCC: %s' % gnbc_train_mcc)\n",
        "print('- F1 score: %s' % gnbc_train_f1)\n",
        "print('----------------------------------')\n",
        "print('Model performance for Test set')\n",
        "print('- Accuracy: %s' % gnbc_test_accuracy)\n",
        "print('- MCC: %s' % gnbc_test_mcc)\n",
        "print('- F1 score: %s' % gnbc_test_f1)\n",
        "fp = confusion_matrix(y_test, y_test_pred, \"GNB\")"
      ]
    },
    {
      "cell_type": "markdown",
      "id": "cc3a5680",
      "metadata": {
        "id": "cc3a5680"
      },
      "source": [
        "**AdaBoost**"
      ]
    },
    {
      "cell_type": "code",
      "execution_count": 1,
      "id": "b0ff343c",
      "metadata": {
        "id": "b0ff343c"
      },
      "outputs": [],
      "source": [
        "# Load libraries\n",
        "from sklearn.ensemble import AdaBoostClassifier\n",
        "# Import Support Vector Classifier\n",
        "from sklearn.svm import SVC\n",
        "svc=SVC(probability=True, kernel='linear')"
      ]
    },
    {
      "cell_type": "code",
      "execution_count": 2,
      "id": "98dd2a86",
      "metadata": {
        "id": "98dd2a86"
      },
      "outputs": [],
      "source": [
        "# Create adaboost classifer object\n",
        "abc =AdaBoostClassifier(n_estimators=50, base_estimator=svc,learning_rate=1)"
      ]
    },
    {
      "cell_type": "code",
      "execution_count": 3,
      "id": "ec4872ec",
      "metadata": {
        "colab": {
          "base_uri": "https://localhost:8080/"
        },
        "id": "ec4872ec",
        "outputId": "edde292b-3e48-43a9-ef20-459bf4bd54ec"
      },
      "outputs": [
        {
          "output_type": "stream",
          "name": "stdout",
          "text": [
            "AdaBoostClassifier(base_estimator=SVC(kernel='linear', probability=True),\n",
            "                   learning_rate=1)\n"
          ]
        }
      ],
      "source": [
        "print(abc)"
      ]
    },
    {
      "cell_type": "code",
      "execution_count": 4,
      "id": "4835577f",
      "metadata": {
        "colab": {
          "base_uri": "https://localhost:8080/",
          "height": 165
        },
        "id": "4835577f",
        "outputId": "60787e75-fe5b-437b-db83-479e1c2d1f53"
      },
      "outputs": [
        {
          "output_type": "error",
          "ename": "NameError",
          "evalue": "ignored",
          "traceback": [
            "\u001b[0;31m---------------------------------------------------------------------------\u001b[0m",
            "\u001b[0;31mNameError\u001b[0m                                 Traceback (most recent call last)",
            "\u001b[0;32m<ipython-input-4-3a678d02b6f8>\u001b[0m in \u001b[0;36m<module>\u001b[0;34m\u001b[0m\n\u001b[0;32m----> 1\u001b[0;31m \u001b[0mabc\u001b[0m\u001b[0;34m.\u001b[0m\u001b[0mfit\u001b[0m\u001b[0;34m(\u001b[0m\u001b[0mx_train\u001b[0m\u001b[0;34m,\u001b[0m \u001b[0my_train\u001b[0m\u001b[0;34m)\u001b[0m\u001b[0;34m\u001b[0m\u001b[0;34m\u001b[0m\u001b[0m\n\u001b[0m",
            "\u001b[0;31mNameError\u001b[0m: name 'x_train' is not defined"
          ]
        }
      ],
      "source": [
        "abc.fit(x_train, y_train)"
      ]
    },
    {
      "cell_type": "code",
      "execution_count": null,
      "id": "a1835c63",
      "metadata": {
        "id": "a1835c63"
      },
      "outputs": [],
      "source": [
        "# Make predictions\n",
        "y_train_pred = abc.predict(x_train)\n",
        "y_test_pred = abc.predict(x_test)\n",
        "\n",
        "# Training set performance\n",
        "abc_train_accuracy = accuracy_score(y_train, y_train_pred) # Calculate Accuracy\n",
        "abc_train_mcc = matthews_corrcoef(y_train, y_train_pred) # Calculate MCC\n",
        "abc_train_f1 = f1_score(y_train, y_train_pred, average='weighted') # Calculate F1-score\n",
        "\n",
        "# Test set performance\n",
        "abc_test_accuracy = accuracy_score(y_test, y_test_pred) # Calculate Accuracy\n",
        "abc_test_mcc = matthews_corrcoef(y_test, y_test_pred) # Calculate MCC\n",
        "abc_test_f1 = f1_score(y_test, y_test_pred, average='weighted') # Calculate F1-score\n",
        "\n",
        "print('Model performance for Training set')\n",
        "print('- Accuracy: %s' % abc_train_accuracy)\n",
        "print('- MCC: %s' % abc_train_mcc)\n",
        "print('- F1 score: %s' % abc_train_f1)\n",
        "print('----------------------------------')\n",
        "print('Model performance for Test set')\n",
        "print('- Accuracy: %s' % abc_test_accuracy)\n",
        "print('- MCC: %s' % abc_test_mcc)\n",
        "print('- F1 score: %s' % abc_test_f1)\n",
        "fp = confusion_matrix(y_test, y_test_pred, \"AdaBoost\")"
      ]
    },
    {
      "cell_type": "markdown",
      "id": "fb0b5899",
      "metadata": {
        "id": "fb0b5899"
      },
      "source": [
        "# **Build Stacked model**"
      ]
    },
    {
      "cell_type": "code",
      "execution_count": null,
      "id": "3278a91a",
      "metadata": {
        "id": "3278a91a"
      },
      "outputs": [],
      "source": [
        "# Define estimators\n",
        "from sklearn.ensemble import StackingClassifier\n",
        "from sklearn.linear_model import LogisticRegression\n",
        "\n",
        "estimator_list = [\n",
        "    ('knn',knn),\n",
        "    #('svm_rbf',svm_rbf),\n",
        "    #('dt',dt),\n",
        "    ('rf',rf),\n",
        "    #('mlp',mlp), \n",
        "    ('xgb',xgbc),\n",
        "    #('abc',abc),\n",
        "    #('gnb',gnbc),\n",
        "\n",
        "\n",
        "                \n",
        "                    ]\n",
        "\n",
        "# Build stack model\n",
        "stack_model = StackingClassifier(\n",
        "    estimators=estimator_list, final_estimator=LogisticRegression()\n",
        ")\n",
        "\n",
        "# Train stacked model\n",
        "stack_model.fit(x_train, y_train)\n",
        "\n",
        "# Make predictions\n",
        "y_train_pred = stack_model.predict(x_train)\n",
        "y_test_pred = stack_model.predict(x_test)\n",
        "\n",
        "# Training set model performance\n",
        "stack_model_train_accuracy = accuracy_score(y_train, y_train_pred) # Calculate Accuracy\n",
        "stack_model_train_mcc = matthews_corrcoef(y_train, y_train_pred) # Calculate MCC\n",
        "stack_model_train_f1 = f1_score(y_train, y_train_pred, average='weighted') # Calculate F1-score\n",
        "\n",
        "# Test set model performance\n",
        "stack_model_test_accuracy = accuracy_score(y_test, y_test_pred) # Calculate Accuracy\n",
        "stack_model_test_mcc = matthews_corrcoef(y_test, y_test_pred) # Calculate MCC\n",
        "stack_model_test_f1 = f1_score(y_test, y_test_pred, average='weighted') # Calculate F1-score\n",
        "\n",
        "print('Model performance for Training set')\n",
        "print('- Accuracy: %s' % stack_model_train_accuracy)\n",
        "print('- MCC: %s' % stack_model_train_mcc)\n",
        "print('- F1 score: %s' % stack_model_train_f1)\n",
        "print('----------------------------------')\n",
        "print('Model performance for Test set')\n",
        "print('- Accuracy: %s' % stack_model_test_accuracy)\n",
        "print('- MCC: %s' % stack_model_test_mcc)\n",
        "print('- F1 score: %s' % stack_model_test_f1)\n",
        "fp = confusion_matrix(y_test, y_test_pred, \"Stacked Model\")"
      ]
    },
    {
      "cell_type": "markdown",
      "id": "bebba165",
      "metadata": {
        "id": "bebba165"
      },
      "source": [
        "**Build Hard Voting Model**"
      ]
    },
    {
      "cell_type": "code",
      "execution_count": null,
      "id": "4fc6e4f5",
      "metadata": {
        "id": "4fc6e4f5"
      },
      "outputs": [],
      "source": [
        "# Define estimators\n",
        "from sklearn.ensemble import VotingClassifier\n",
        "#from sklearn.linear_model import LogisticRegression\n",
        "\n",
        "estimator_list = [\n",
        "    ('knn',knn),\n",
        "    #('svm_rbf',svm_rbf),\n",
        "    #('dt',dt),\n",
        "    ('rf',rf),\n",
        "    #('mlp',mlp)\n",
        "    ('xgb',xgbc),\n",
        "    #('abc',abc),\n",
        "    #('gnb',gnbc),\n",
        "    \n",
        "                ]\n",
        "\n",
        "# Build hard voting model\n",
        "voting_model = VotingClassifier(estimators=estimator_list, voting='hard')\n",
        "\n",
        "# Train voting model\n",
        "voting_model.fit(x_train, y_train)\n",
        "\n",
        "# Make predictions\n",
        "voting_train_start = datetime.now()\n",
        "y_train_pred = voting_model.predict(x_train)\n",
        "voting_train_timing = datetime.now()-voting_train_start\n",
        "\n",
        "print('Total voting training time taken:',voting_train_timing)\n",
        "\n",
        "voting_test_start = datetime.now()\n",
        "y_test_pred = voting_model.predict(x_test)\n",
        "voting_test_timing = datetime.now()-voting_test_start\n",
        "\n",
        "print('Total voting test time taken:',voting_test_timing)\n",
        "\n",
        "\n",
        "\n",
        "# Training set model performance\n",
        "voting_model_train_accuracy = accuracy_score(y_train, y_train_pred) # Calculate Accuracy\n",
        "voting_model_train_mcc = matthews_corrcoef(y_train, y_train_pred) # Calculate MCC\n",
        "voting_model_train_f1 = f1_score(y_train, y_train_pred, average='weighted') # Calculate F1-score\n",
        "\n",
        "# Test set model performance\n",
        "voting_model_test_accuracy = accuracy_score(y_test, y_test_pred) # Calculate Accuracy\n",
        "voting_model_test_mcc = matthews_corrcoef(y_test, y_test_pred) # Calculate MCC\n",
        "voting_model_test_f1 = f1_score(y_test, y_test_pred, average='weighted') # Calculate F1-score\n",
        "\n",
        "print('Model performance for Training set')\n",
        "print('- Accuracy: %s' % voting_model_train_accuracy)\n",
        "print('- MCC: %s' % voting_model_train_mcc)\n",
        "print('- F1 score: %s' % voting_model_train_f1)\n",
        "print('- Total voting training time:', voting_train_timing )\n",
        "print('----------------------------------')\n",
        "print('Model performance for Test set')\n",
        "print('- Accuracy: %s' % voting_model_test_accuracy)\n",
        "print('- MCC: %s' % voting_model_test_mcc)\n",
        "print('- F1 score: %s' % voting_model_test_f1)\n",
        "print('- Total voting test time:', voting_test_timing )\n",
        "\n",
        "\n",
        "fp = confusion_matrix(y_test, y_test_pred, \"Hard Voting Model\")"
      ]
    },
    {
      "cell_type": "markdown",
      "id": "2d6e67ef",
      "metadata": {
        "id": "2d6e67ef"
      },
      "source": [
        "**Build Soft Voting Model**"
      ]
    },
    {
      "cell_type": "raw",
      "id": "6e07a99a",
      "metadata": {
        "id": "6e07a99a"
      },
      "source": [
        "# Define estimators\n",
        "from sklearn.ensemble import VotingClassifier\n",
        "from mlxtend.classifier import EnsembleVoteClassifier\n",
        "\n",
        "#from sklearn.linear_model import LogisticRegression\n",
        "\n",
        "estimator_list = [\n",
        "    ('knn',knn),\n",
        "    ('svm_rbf',svm_rbf),\n",
        "    ('dt',dt),\n",
        "    ('rf',rf),\n",
        "    ('mlp',mlp) \n",
        "                ]\n",
        "\n",
        "\n",
        "\n",
        "# Build soft voting model\n",
        "\n",
        "soft_voting_model = VotingClassifier(estimators=estimator_list, voting='soft',flatten_transform=False)\n",
        "\n",
        "#soft_voting_model = EnsembleVoteClassifier(\n",
        "                            #clfs=estimator_list, \n",
        "                            #clfs=(knn, svm_rbf, dt,rf,mlp), \n",
        "                            #voting=\"soft\",  # the same would also work with \"hard\" voting\n",
        "                            #weights=(2,2,1, 2, 1),\n",
        "                            #use_clones=False,\n",
        "                            #fit_base_estimators=False,\n",
        "\n",
        "                                           # )\n",
        "\n",
        "\n",
        "\n",
        "#eclf = EnsembleVoteClassifier(\n",
        " #   clfs=(clf1, clf2, clf3),\n",
        "  #  voting=\"soft\",  # the same would also work with \"hard\" voting\n",
        "   # weights=(1, 1, 1),\n",
        "    #use_clones=False,\n",
        "    #fit_base_estimators=False,\n",
        "                             #)\n",
        "\n",
        "\n",
        "\n",
        "# Train voting model\n",
        "soft_voting_model.fit(x_train, y_train)\n",
        "\n",
        "# Make predictions\n",
        "y_train_pred = soft_voting_model.predict(x_train)\n",
        "y_test_pred = soft_voting_model.predict(x_test)\n",
        "\n",
        "# Training set model performance\n",
        "soft_voting_model_train_accuracy = accuracy_score(y_train, y_train_pred) # Calculate Accuracy\n",
        "soft_voting_model_train_mcc = matthews_corrcoef(y_train, y_train_pred) # Calculate MCC\n",
        "soft_voting_model_train_f1 = f1_score(y_train, y_train_pred, average='weighted') # Calculate F1-score\n",
        "\n",
        "# Test set model performance\n",
        "soft_voting_model_test_accuracy = accuracy_score(y_test, y_test_pred) # Calculate Accuracy\n",
        "soft_voting_model_test_mcc = matthews_corrcoef(y_test, y_test_pred) # Calculate MCC\n",
        "soft_voting_model_test_f1 = f1_score(y_test, y_test_pred, average='weighted') # Calculate F1-score\n",
        "\n",
        "print('Model performance for Training set')\n",
        "print('- Accuracy: %s' % soft_voting_model_train_accuracy)\n",
        "print('- MCC: %s' % soft_voting_model_train_mcc)\n",
        "print('- F1 score: %s' % soft_voting_model_train_f1)\n",
        "print('----------------------------------')\n",
        "print('Model performance for Test set')\n",
        "print('- Accuracy: %s' % soft_voting_model_test_accuracy)\n",
        "print('- MCC: %s' % soft_voting_model_test_mcc)\n",
        "print('- F1 score: %s' % soft_voting_model_test_f1)\n",
        "\n",
        "fp = confusion_matrix(y_test, y_test_pred, \"Soft Voting Model\")\n",
        "\n",
        "# using accuracy_score\n",
        "#score = accuracy_score(y_test, y_pred)\n",
        "#print(\"Soft Voting Score % d\" % score)"
      ]
    },
    {
      "cell_type": "markdown",
      "id": "a3bd8e3d",
      "metadata": {
        "id": "a3bd8e3d"
      },
      "source": [
        "# **Eğitim Sonuçları**"
      ]
    },
    {
      "cell_type": "code",
      "execution_count": null,
      "id": "c53480af",
      "metadata": {
        "id": "c53480af"
      },
      "outputs": [],
      "source": [
        "acc_train_list = {'knn':knn_train_accuracy,\n",
        "'svm_rbf': svm_rbf_train_accuracy,\n",
        "'dt': dt_train_accuracy,\n",
        "'rf': rf_train_accuracy,\n",
        "'mlp': mlp_train_accuracy,\n",
        "'xgb': xgbc_train_accuracy,\n",
        "'gnb': gnbc_train_accuracy,\n",
        "'abc': abc_train_accuracy,\n",
        "'stack': stack_model_train_accuracy,\n",
        "'hard voting': voting_model_train_accuracy,\n",
        "#'soft voting': soft_voting_model_train_accuracy\n",
        "                        }\n",
        "\n",
        "mcc_train_list = {'knn':knn_train_mcc,\n",
        "'svm_rbf': svm_rbf_train_mcc,\n",
        "'dt': dt_train_mcc,\n",
        "'rf': rf_train_mcc,\n",
        "'mlp': mlp_train_mcc,\n",
        "'xgb': xgbc_train_mcc,\n",
        "'gnb': gnbc_train_mcc,\n",
        "'abc': abc_train_mcc,\n",
        "'stack': stack_model_train_mcc,\n",
        "'hard voting': voting_model_train_mcc,\n",
        "#'soft voting': soft_voting_model_train_mcc\n",
        "                 }\n",
        "\n",
        "\n",
        "\n",
        "f1_train_list = {'knn':knn_train_f1,\n",
        "'svm_rbf': svm_rbf_train_f1,\n",
        "'dt': dt_train_f1,\n",
        "'rf': rf_train_f1,\n",
        "'mlp': mlp_train_f1,\n",
        "'xgb': xgbc_train_f1,\n",
        "'gnb': gnbc_train_f1,\n",
        "'abc': abc_train_f1,             \n",
        "'stack': stack_model_train_f1,\n",
        "'hard voting': voting_model_train_f1,\n",
        "#'soft voting': soft_voting_model_train_f1\n",
        "                }\n",
        "\n",
        "\n"
      ]
    },
    {
      "cell_type": "code",
      "execution_count": null,
      "id": "0a779c5c",
      "metadata": {
        "id": "0a779c5c"
      },
      "outputs": [],
      "source": [
        "acc_train_list"
      ]
    },
    {
      "cell_type": "code",
      "execution_count": null,
      "id": "a3d60e91",
      "metadata": {
        "id": "a3d60e91"
      },
      "outputs": [],
      "source": [
        "mcc_train_list"
      ]
    },
    {
      "cell_type": "code",
      "execution_count": null,
      "id": "53eac61f",
      "metadata": {
        "id": "53eac61f"
      },
      "outputs": [],
      "source": [
        "f1_train_list"
      ]
    },
    {
      "cell_type": "code",
      "execution_count": null,
      "id": "8fbf54a9",
      "metadata": {
        "id": "8fbf54a9"
      },
      "outputs": [],
      "source": [
        "import pandas as pd\n",
        "\n",
        "acc_df = pd.DataFrame.from_dict(acc_train_list, orient='index', columns=['Accuracy'])\n",
        "mcc_df = pd.DataFrame.from_dict(mcc_train_list, orient='index', columns=['MCC'])\n",
        "f1_df = pd.DataFrame.from_dict(f1_train_list, orient='index', columns=['F1'])\n",
        "df = pd.concat([acc_df, mcc_df, f1_df], axis=1)\n",
        "df"
      ]
    },
    {
      "cell_type": "code",
      "execution_count": null,
      "id": "371521a5",
      "metadata": {
        "id": "371521a5"
      },
      "outputs": [],
      "source": [
        "df.to_csv('Egitim_Sonuc.csv')"
      ]
    },
    {
      "cell_type": "markdown",
      "id": "69791793",
      "metadata": {
        "id": "69791793"
      },
      "source": [
        "# **Test Sonuçları**"
      ]
    },
    {
      "cell_type": "code",
      "execution_count": null,
      "id": "3940d0d4",
      "metadata": {
        "id": "3940d0d4"
      },
      "outputs": [],
      "source": [
        "acc_test_list = {'knn':knn_test_accuracy,\n",
        "'svm_rbf': svm_rbf_test_accuracy,\n",
        "'dt': dt_test_accuracy,\n",
        "'rf': rf_test_accuracy,\n",
        "'mlp': mlp_test_accuracy,\n",
        "'xgb': xgbc_test_accuracy,\n",
        "'gnb': gnbc_test_accuracy,\n",
        "'abc': abc_test_accuracy,\n",
        "'stack': stack_model_test_accuracy,\n",
        "'hard voting': voting_model_test_accuracy,\n",
        "#'soft voting': soft_voting_model_test_accuracy\n",
        "                }\n",
        "\n",
        "mcc_test_list = {'knn':knn_test_mcc,\n",
        "'svm_rbf': svm_rbf_test_mcc,\n",
        "'dt': dt_test_mcc,\n",
        "'rf': rf_test_mcc,\n",
        "'mlp': mlp_test_mcc,\n",
        "'xgb': xgbc_test_mcc,\n",
        "'gnb': gnbc_test_mcc,\n",
        "'abc': abc_test_mcc,                 \n",
        "'stack': stack_model_test_mcc,\n",
        "'hard voting': voting_model_test_mcc,\n",
        "#'soft voting': soft_voting_model_test_mcc\n",
        "                }\n",
        "\n",
        "\n",
        "\n",
        "f1_test_list = {'knn':knn_test_f1,\n",
        "'svm_rbf': svm_rbf_test_f1,\n",
        "'dt': dt_test_f1,\n",
        "'rf': rf_test_f1,\n",
        "'mlp': mlp_test_f1,\n",
        "'xgb': xgbc_test_f1,\n",
        "'gnb': gnbc_test_f1,\n",
        "'abc': abc_test_f1,                 \n",
        "'stack': stack_model_test_f1,\n",
        "'hard voting': voting_model_test_f1,\n",
        "#'soft voting': soft_voting_model_test_f1\n",
        "               }\n"
      ]
    },
    {
      "cell_type": "code",
      "execution_count": null,
      "id": "44c92cdc",
      "metadata": {
        "id": "44c92cdc"
      },
      "outputs": [],
      "source": [
        "acc_test_list"
      ]
    },
    {
      "cell_type": "code",
      "execution_count": null,
      "id": "f885b3eb",
      "metadata": {
        "id": "f885b3eb"
      },
      "outputs": [],
      "source": [
        "mcc_test_list"
      ]
    },
    {
      "cell_type": "code",
      "execution_count": null,
      "id": "f40c9ab5",
      "metadata": {
        "id": "f40c9ab5"
      },
      "outputs": [],
      "source": [
        "f1_test_list"
      ]
    },
    {
      "cell_type": "code",
      "execution_count": null,
      "id": "420d5671",
      "metadata": {
        "id": "420d5671"
      },
      "outputs": [],
      "source": [
        "import pandas as pd\n",
        "\n",
        "acc_df = pd.DataFrame.from_dict(acc_test_list, orient='index', columns=['Accuracy'])\n",
        "mcc_df = pd.DataFrame.from_dict(mcc_test_list, orient='index', columns=['MCC'])\n",
        "f1_df = pd.DataFrame.from_dict(f1_test_list, orient='index', columns=['F1'])\n",
        "df = pd.concat([acc_df, mcc_df, f1_df], axis=1)\n",
        "df"
      ]
    },
    {
      "cell_type": "code",
      "execution_count": null,
      "id": "a4e26d2a",
      "metadata": {
        "id": "a4e26d2a"
      },
      "outputs": [],
      "source": [
        "df.to_csv('Test_Sonuc.csv')"
      ]
    },
    {
      "cell_type": "code",
      "execution_count": null,
      "id": "b58b01ec",
      "metadata": {
        "id": "b58b01ec"
      },
      "outputs": [],
      "source": []
    },
    {
      "cell_type": "code",
      "execution_count": null,
      "id": "80462cc2",
      "metadata": {
        "id": "80462cc2"
      },
      "outputs": [],
      "source": []
    }
  ],
  "metadata": {
    "kernelspec": {
      "display_name": "Python 3 (ipykernel)",
      "language": "python",
      "name": "python3"
    },
    "language_info": {
      "codemirror_mode": {
        "name": "ipython",
        "version": 3
      },
      "file_extension": ".py",
      "mimetype": "text/x-python",
      "name": "python",
      "nbconvert_exporter": "python",
      "pygments_lexer": "ipython3",
      "version": "3.9.12"
    },
    "colab": {
      "provenance": [],
      "collapsed_sections": [
        "growing-packing",
        "6e07a99a"
      ],
      "include_colab_link": true
    },
    "accelerator": "GPU",
    "gpuClass": "standard"
  },
  "nbformat": 4,
  "nbformat_minor": 5
}